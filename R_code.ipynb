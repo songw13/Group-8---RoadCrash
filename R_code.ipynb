{
 "cells": [
  {
   "cell_type": "code",
   "execution_count": 17,
   "id": "b57bbe24",
   "metadata": {},
   "outputs": [],
   "source": [
    "casualties = read.csv('Casualties.csv')\n",
    "crash = read.csv('Crash.csv')\n",
    "datatime = read.csv('DateTime.csv')\n",
    "description = read.csv('Description.csv')\n",
    "location = read.csv('Location.csv')\n",
    "vehicles = read.csv('Vehicles.csv')\n",
    "\n",
    "x1 = merge(crash,description,all.x = TRUE)\n",
    "# split STATE from crash_id\n",
    "# crash_id : State + numbers\n",
    "\n",
    "location_drop = na.omit(location)\n",
    "x2 <- merge(x1,location_drop,all.x = T)\n",
    "\n",
    "library(stringr)\n",
    "zzz = x2[,'crash_id']\n",
    "x2$state <- str_extract(zzz,\"[^0-9]+\")\n",
    "\n",
    "x <- merge(x2,datatime,by = 'date_time_id',all.x = T)\n",
    "write.csv(x,'y.csv')"
   ]
  },
  {
   "cell_type": "code",
   "execution_count": 14,
   "id": "c1a1cca7",
   "metadata": {},
   "outputs": [
    {
     "data": {
      "text/html": [
       "922134"
      ],
      "text/latex": [
       "922134"
      ],
      "text/markdown": [
       "922134"
      ],
      "text/plain": [
       "[1] 922134"
      ]
     },
     "metadata": {},
     "output_type": "display_data"
    }
   ],
   "source": [
    "# library(tidyr)\n",
    "# z_new <- separate(z, date_time_id, into = c(\"year\",\"month\", \"day\",\"hour\"), sep = \"-\")\n",
    "# head(z_new)"
   ]
  },
  {
   "cell_type": "code",
   "execution_count": 26,
   "id": "93c7f8b7",
   "metadata": {},
   "outputs": [],
   "source": [
    "#write.csv(y,'y.csv')"
   ]
  },
  {
   "cell_type": "code",
   "execution_count": 1,
   "id": "f1a6fea9",
   "metadata": {},
   "outputs": [],
   "source": [
    "x = read.csv('y.csv')"
   ]
  },
  {
   "cell_type": "code",
   "execution_count": 1,
   "id": "15faa367",
   "metadata": {},
   "outputs": [],
   "source": [
    "#y = read.csv('merge.csv')"
   ]
  },
  {
   "cell_type": "code",
   "execution_count": null,
   "id": "770f4df6",
   "metadata": {},
   "outputs": [],
   "source": [
    "unique(y$state)"
   ]
  },
  {
   "cell_type": "code",
   "execution_count": null,
   "id": "374b39d4",
   "metadata": {},
   "outputs": [],
   "source": [
    "for (i in 1:nrow(y)){\n",
    "    if (y$state[i]=='NZ'){\n",
    "        y$country[i] = 'NZ'\n",
    "    }\n",
    "    else {\n",
    "        y$country[i] = 'AU'\n",
    "    }\n",
    "}\n"
   ]
  },
  {
   "cell_type": "code",
   "execution_count": 2,
   "id": "5312d0bb",
   "metadata": {},
   "outputs": [
    {
     "data": {
      "text/html": [
       "<table class=\"dataframe\">\n",
       "<caption>A data.frame: 6 × 37</caption>\n",
       "<thead>\n",
       "\t<tr><th></th><th scope=col>X</th><th scope=col>date_time_id</th><th scope=col>X.x</th><th scope=col>lat_long</th><th scope=col>description_id</th><th scope=col>crash_id</th><th scope=col>vehicles_id</th><th scope=col>casualties_id</th><th scope=col>severity</th><th scope=col>speed_limit</th><th scope=col>...</th><th scope=col>local_government_area</th><th scope=col>statistical_area</th><th scope=col>suburb</th><th scope=col>X.y</th><th scope=col>year</th><th scope=col>month</th><th scope=col>day_of_week</th><th scope=col>day_of_month</th><th scope=col>hour</th><th scope=col>approximate</th></tr>\n",
       "\t<tr><th></th><th scope=col>&lt;int&gt;</th><th scope=col>&lt;chr&gt;</th><th scope=col>&lt;int&gt;</th><th scope=col>&lt;chr&gt;</th><th scope=col>&lt;int&gt;</th><th scope=col>&lt;chr&gt;</th><th scope=col>&lt;chr&gt;</th><th scope=col>&lt;chr&gt;</th><th scope=col>&lt;chr&gt;</th><th scope=col>&lt;chr&gt;</th><th scope=col>...</th><th scope=col>&lt;chr&gt;</th><th scope=col>&lt;chr&gt;</th><th scope=col>&lt;chr&gt;</th><th scope=col>&lt;int&gt;</th><th scope=col>&lt;int&gt;</th><th scope=col>&lt;int&gt;</th><th scope=col>&lt;int&gt;</th><th scope=col>&lt;int&gt;</th><th scope=col>&lt;int&gt;</th><th scope=col>&lt;chr&gt;</th></tr>\n",
       "</thead>\n",
       "<tbody>\n",
       "\t<tr><th scope=row>1</th><td>1</td><td>2000----</td><td>310988</td><td>(-36.954216127594755, 174.905059251299)  </td><td>310988</td><td>NZ12493</td><td>2c   </td><td>0c</td><td>property_damage</td><td>80.0</td><td>...</td><td>Auckland        </td><td>523111</td><td>  </td><td>304497</td><td>2000</td><td>NA</td><td>NA</td><td>NA</td><td>NA</td><td>True</td></tr>\n",
       "\t<tr><th scope=row>2</th><td>2</td><td>2000----</td><td>332108</td><td>(-45.877911340246364, 170.49755538683803)</td><td>332108</td><td>NZ30626</td><td>1c1mc</td><td>0c</td><td>property_damage</td><td>50.0</td><td>...</td><td>Dunedin City    </td><td>603000</td><td>  </td><td>304497</td><td>2000</td><td>NA</td><td>NA</td><td>NA</td><td>NA</td><td>True</td></tr>\n",
       "\t<tr><th scope=row>3</th><td>3</td><td>2000----</td><td>327738</td><td>(-39.50972625894699, 176.89873032439536) </td><td>327738</td><td>NZ24245</td><td>2c   </td><td>0c</td><td>property_damage</td><td>50.0</td><td>...</td><td>NA              </td><td>NA    </td><td>NA</td><td>304497</td><td>2000</td><td>NA</td><td>NA</td><td>NA</td><td>NA</td><td>True</td></tr>\n",
       "\t<tr><th scope=row>4</th><td>4</td><td>2000----</td><td>325408</td><td>(-36.86509341934693, 174.64700234301796) </td><td>325408</td><td>NZ16913</td><td>     </td><td>0c</td><td>property_damage</td><td>50.0</td><td>...</td><td>NA              </td><td>NA    </td><td>NA</td><td>304497</td><td>2000</td><td>NA</td><td>NA</td><td>NA</td><td>NA</td><td>True</td></tr>\n",
       "\t<tr><th scope=row>5</th><td>5</td><td>2000----</td><td>317904</td><td>(-36.899484703848074, 174.80427671720173)</td><td>317904</td><td>NZ10409</td><td>3c1i </td><td>0c</td><td>property_damage</td><td>50.0</td><td>...</td><td>NA              </td><td>NA    </td><td>NA</td><td>304497</td><td>2000</td><td>NA</td><td>NA</td><td>NA</td><td>NA</td><td>True</td></tr>\n",
       "\t<tr><th scope=row>6</th><td>6</td><td>2000----</td><td>312433</td><td>(-38.1400280094781, 176.2513978778026)   </td><td>312433</td><td>NZ11938</td><td>1T1i </td><td>0c</td><td>property_damage</td><td>30.0</td><td>...</td><td>Rotorua District</td><td>540420</td><td>  </td><td>304497</td><td>2000</td><td>NA</td><td>NA</td><td>NA</td><td>NA</td><td>True</td></tr>\n",
       "</tbody>\n",
       "</table>\n"
      ],
      "text/latex": [
       "A data.frame: 6 × 37\n",
       "\\begin{tabular}{r|lllllllllllllllllllll}\n",
       "  & X & date\\_time\\_id & X.x & lat\\_long & description\\_id & crash\\_id & vehicles\\_id & casualties\\_id & severity & speed\\_limit & ... & local\\_government\\_area & statistical\\_area & suburb & X.y & year & month & day\\_of\\_week & day\\_of\\_month & hour & approximate\\\\\n",
       "  & <int> & <chr> & <int> & <chr> & <int> & <chr> & <chr> & <chr> & <chr> & <chr> & ... & <chr> & <chr> & <chr> & <int> & <int> & <int> & <int> & <int> & <int> & <chr>\\\\\n",
       "\\hline\n",
       "\t1 & 1 & 2000---- & 310988 & (-36.954216127594755, 174.905059251299)   & 310988 & NZ12493 & 2c    & 0c & property\\_damage & 80.0 & ... & Auckland         & 523111 &    & 304497 & 2000 & NA & NA & NA & NA & True\\\\\n",
       "\t2 & 2 & 2000---- & 332108 & (-45.877911340246364, 170.49755538683803) & 332108 & NZ30626 & 1c1mc & 0c & property\\_damage & 50.0 & ... & Dunedin City     & 603000 &    & 304497 & 2000 & NA & NA & NA & NA & True\\\\\n",
       "\t3 & 3 & 2000---- & 327738 & (-39.50972625894699, 176.89873032439536)  & 327738 & NZ24245 & 2c    & 0c & property\\_damage & 50.0 & ... & NA               & NA     & NA & 304497 & 2000 & NA & NA & NA & NA & True\\\\\n",
       "\t4 & 4 & 2000---- & 325408 & (-36.86509341934693, 174.64700234301796)  & 325408 & NZ16913 &       & 0c & property\\_damage & 50.0 & ... & NA               & NA     & NA & 304497 & 2000 & NA & NA & NA & NA & True\\\\\n",
       "\t5 & 5 & 2000---- & 317904 & (-36.899484703848074, 174.80427671720173) & 317904 & NZ10409 & 3c1i  & 0c & property\\_damage & 50.0 & ... & NA               & NA     & NA & 304497 & 2000 & NA & NA & NA & NA & True\\\\\n",
       "\t6 & 6 & 2000---- & 312433 & (-38.1400280094781, 176.2513978778026)    & 312433 & NZ11938 & 1T1i  & 0c & property\\_damage & 30.0 & ... & Rotorua District & 540420 &    & 304497 & 2000 & NA & NA & NA & NA & True\\\\\n",
       "\\end{tabular}\n"
      ],
      "text/markdown": [
       "\n",
       "A data.frame: 6 × 37\n",
       "\n",
       "| <!--/--> | X &lt;int&gt; | date_time_id &lt;chr&gt; | X.x &lt;int&gt; | lat_long &lt;chr&gt; | description_id &lt;int&gt; | crash_id &lt;chr&gt; | vehicles_id &lt;chr&gt; | casualties_id &lt;chr&gt; | severity &lt;chr&gt; | speed_limit &lt;chr&gt; | ... ... | local_government_area &lt;chr&gt; | statistical_area &lt;chr&gt; | suburb &lt;chr&gt; | X.y &lt;int&gt; | year &lt;int&gt; | month &lt;int&gt; | day_of_week &lt;int&gt; | day_of_month &lt;int&gt; | hour &lt;int&gt; | approximate &lt;chr&gt; |\n",
       "|---|---|---|---|---|---|---|---|---|---|---|---|---|---|---|---|---|---|---|---|---|---|\n",
       "| 1 | 1 | 2000---- | 310988 | (-36.954216127594755, 174.905059251299)   | 310988 | NZ12493 | 2c    | 0c | property_damage | 80.0 | ... | Auckland         | 523111 | <!----> | 304497 | 2000 | NA | NA | NA | NA | True |\n",
       "| 2 | 2 | 2000---- | 332108 | (-45.877911340246364, 170.49755538683803) | 332108 | NZ30626 | 1c1mc | 0c | property_damage | 50.0 | ... | Dunedin City     | 603000 | <!----> | 304497 | 2000 | NA | NA | NA | NA | True |\n",
       "| 3 | 3 | 2000---- | 327738 | (-39.50972625894699, 176.89873032439536)  | 327738 | NZ24245 | 2c    | 0c | property_damage | 50.0 | ... | NA               | NA     | NA | 304497 | 2000 | NA | NA | NA | NA | True |\n",
       "| 4 | 4 | 2000---- | 325408 | (-36.86509341934693, 174.64700234301796)  | 325408 | NZ16913 | <!----> | 0c | property_damage | 50.0 | ... | NA               | NA     | NA | 304497 | 2000 | NA | NA | NA | NA | True |\n",
       "| 5 | 5 | 2000---- | 317904 | (-36.899484703848074, 174.80427671720173) | 317904 | NZ10409 | 3c1i  | 0c | property_damage | 50.0 | ... | NA               | NA     | NA | 304497 | 2000 | NA | NA | NA | NA | True |\n",
       "| 6 | 6 | 2000---- | 312433 | (-38.1400280094781, 176.2513978778026)    | 312433 | NZ11938 | 1T1i  | 0c | property_damage | 30.0 | ... | Rotorua District | 540420 | <!----> | 304497 | 2000 | NA | NA | NA | NA | True |\n",
       "\n"
      ],
      "text/plain": [
       "  X date_time_id X.x    lat_long                                 \n",
       "1 1 2000----     310988 (-36.954216127594755, 174.905059251299)  \n",
       "2 2 2000----     332108 (-45.877911340246364, 170.49755538683803)\n",
       "3 3 2000----     327738 (-39.50972625894699, 176.89873032439536) \n",
       "4 4 2000----     325408 (-36.86509341934693, 174.64700234301796) \n",
       "5 5 2000----     317904 (-36.899484703848074, 174.80427671720173)\n",
       "6 6 2000----     312433 (-38.1400280094781, 176.2513978778026)   \n",
       "  description_id crash_id vehicles_id casualties_id severity        speed_limit\n",
       "1 310988         NZ12493  2c          0c            property_damage 80.0       \n",
       "2 332108         NZ30626  1c1mc       0c            property_damage 50.0       \n",
       "3 327738         NZ24245  2c          0c            property_damage 50.0       \n",
       "4 325408         NZ16913              0c            property_damage 50.0       \n",
       "5 317904         NZ10409  3c1i        0c            property_damage 50.0       \n",
       "6 312433         NZ11938  1T1i        0c            property_damage 30.0       \n",
       "  ... local_government_area statistical_area suburb X.y    year month\n",
       "1 ... Auckland              523111                  304497 2000 NA   \n",
       "2 ... Dunedin City          603000                  304497 2000 NA   \n",
       "3 ... NA                    NA               NA     304497 2000 NA   \n",
       "4 ... NA                    NA               NA     304497 2000 NA   \n",
       "5 ... NA                    NA               NA     304497 2000 NA   \n",
       "6 ... Rotorua District      540420                  304497 2000 NA   \n",
       "  day_of_week day_of_month hour approximate\n",
       "1 NA          NA           NA   True       \n",
       "2 NA          NA           NA   True       \n",
       "3 NA          NA           NA   True       \n",
       "4 NA          NA           NA   True       \n",
       "5 NA          NA           NA   True       \n",
       "6 NA          NA           NA   True       "
      ]
     },
     "metadata": {},
     "output_type": "display_data"
    }
   ],
   "source": [
    "head(y)"
   ]
  },
  {
   "cell_type": "code",
   "execution_count": 10,
   "id": "bce41720",
   "metadata": {},
   "outputs": [
    {
     "data": {
      "text/html": [
       "<style>\n",
       ".list-inline {list-style: none; margin:0; padding: 0}\n",
       ".list-inline>li {display: inline-block}\n",
       ".list-inline>li:not(:last-child)::after {content: \"\\00b7\"; padding: 0 .5ex}\n",
       "</style>\n",
       "<ol class=list-inline><li>'VICT'</li><li>'ACT'</li></ol>\n"
      ],
      "text/latex": [
       "\\begin{enumerate*}\n",
       "\\item 'VICT'\n",
       "\\item 'ACT'\n",
       "\\end{enumerate*}\n"
      ],
      "text/markdown": [
       "1. 'VICT'\n",
       "2. 'ACT'\n",
       "\n",
       "\n"
      ],
      "text/plain": [
       "[1] \"VICT\" \"ACT\" "
      ]
     },
     "metadata": {},
     "output_type": "display_data"
    }
   ],
   "source": [
    "unique(y[y$year ==2019,]$state)"
   ]
  },
  {
   "cell_type": "code",
   "execution_count": 11,
   "id": "b0cb9bcf",
   "metadata": {},
   "outputs": [
    {
     "data": {
      "text/html": [
       "1519455"
      ],
      "text/latex": [
       "1519455"
      ],
      "text/markdown": [
       "1519455"
      ],
      "text/plain": [
       "[1] 1519455"
      ]
     },
     "metadata": {},
     "output_type": "display_data"
    }
   ],
   "source": []
  },
  {
   "cell_type": "code",
   "execution_count": null,
   "id": "dd83eb3c",
   "metadata": {},
   "outputs": [],
   "source": [
    "a = merge(datatime,crash,all = TRUE)\n",
    "b = merge(a,description,all.x = TRUE)\n",
    "c = merge(b,location,all.x = TRUE)\n",
    "data = merge(c,vehicles,all.x = TRUE)"
   ]
  },
  {
   "cell_type": "code",
   "execution_count": 4,
   "id": "4250fe68",
   "metadata": {},
   "outputs": [],
   "source": [
    "#write.csv(x,'x.csv')"
   ]
  },
  {
   "cell_type": "code",
   "execution_count": 1,
   "id": "9ce065aa",
   "metadata": {},
   "outputs": [
    {
     "ename": "ERROR",
     "evalue": "Error in unique(x$state): 找不到对象'x'\n",
     "output_type": "error",
     "traceback": [
      "Error in unique(x$state): 找不到对象'x'\nTraceback:\n",
      "1. unique(x$state)"
     ]
    }
   ],
   "source": [
    "unique(x$state)"
   ]
  },
  {
   "cell_type": "code",
   "execution_count": 19,
   "id": "5402f9a2",
   "metadata": {},
   "outputs": [],
   "source": [
    "sa = x[x$state == 'SA',]\n",
    "qld = x[x$state == 'QLD',]\n",
    "vict = x[x$state == 'VICT',]\n",
    "wa = x[x$state == 'WA',]\n",
    "act = x[x$state == 'ACT',]\n",
    "nz = x[x$state == 'NZ',]"
   ]
  },
  {
   "cell_type": "code",
   "execution_count": 27,
   "id": "a35bfad9",
   "metadata": {},
   "outputs": [
    {
     "data": {
      "text/html": [
       "114708"
      ],
      "text/latex": [
       "114708"
      ],
      "text/markdown": [
       "114708"
      ],
      "text/plain": [
       "[1] 114708"
      ]
     },
     "metadata": {},
     "output_type": "display_data"
    },
    {
     "data": {
      "text/html": [
       "328247"
      ],
      "text/latex": [
       "328247"
      ],
      "text/markdown": [
       "328247"
      ],
      "text/plain": [
       "[1] 328247"
      ]
     },
     "metadata": {},
     "output_type": "display_data"
    },
    {
     "data": {
      "text/html": [
       "189789"
      ],
      "text/latex": [
       "189789"
      ],
      "text/markdown": [
       "189789"
      ],
      "text/plain": [
       "[1] 189789"
      ]
     },
     "metadata": {},
     "output_type": "display_data"
    },
    {
     "data": {
      "text/html": [
       "150937"
      ],
      "text/latex": [
       "150937"
      ],
      "text/markdown": [
       "150937"
      ],
      "text/plain": [
       "[1] 150937"
      ]
     },
     "metadata": {},
     "output_type": "display_data"
    },
    {
     "data": {
      "text/html": [
       "61453"
      ],
      "text/latex": [
       "61453"
      ],
      "text/markdown": [
       "61453"
      ],
      "text/plain": [
       "[1] 61453"
      ]
     },
     "metadata": {},
     "output_type": "display_data"
    },
    {
     "data": {
      "text/html": [
       "674321"
      ],
      "text/latex": [
       "674321"
      ],
      "text/markdown": [
       "674321"
      ],
      "text/plain": [
       "[1] 674321"
      ]
     },
     "metadata": {},
     "output_type": "display_data"
    }
   ],
   "source": [
    "nrow(sa)\n",
    "nrow(qld)\n",
    "nrow(vict)\n",
    "nrow(wa)\n",
    "nrow(act)\n",
    "nrow(nz)"
   ]
  },
  {
   "cell_type": "code",
   "execution_count": 55,
   "id": "f918d445",
   "metadata": {},
   "outputs": [
    {
     "name": "stdout",
     "output_type": "stream",
     "text": [
      "[1] \"SA drugs_alochol percent: \"\n"
     ]
    },
    {
     "data": {
      "text/html": [
       "0.0316455696202532"
      ],
      "text/latex": [
       "0.0316455696202532"
      ],
      "text/markdown": [
       "0.0316455696202532"
      ],
      "text/plain": [
       "[1] 0.03164557"
      ]
     },
     "metadata": {},
     "output_type": "display_data"
    },
    {
     "data": {
      "text/html": [
       "'SA'"
      ],
      "text/latex": [
       "'SA'"
      ],
      "text/markdown": [
       "'SA'"
      ],
      "text/plain": [
       "[1] \"SA\""
      ]
     },
     "metadata": {},
     "output_type": "display_data"
    }
   ],
   "source": [
    "print('SA drugs_alochol percent: ')\n",
    "nrow(sa[sa$drugs_alcohol=='Y',])/nrow(sa)\n",
    "# only SA recoded the drugs_alochols\n",
    "unique(x[x$drugs_alcohol=='Y',]$state)"
   ]
  },
  {
   "cell_type": "code",
   "execution_count": 17,
   "id": "f885b3dc",
   "metadata": {},
   "outputs": [
    {
     "data": {
      "text/html": [
       "<table class=\"dataframe\">\n",
       "<caption>A data.frame: 6 × 6</caption>\n",
       "<thead>\n",
       "\t<tr><th></th><th scope=col>X</th><th scope=col>casualties_id</th><th scope=col>casualties</th><th scope=col>fatalities</th><th scope=col>serious_injuries</th><th scope=col>minor_injuries</th></tr>\n",
       "\t<tr><th></th><th scope=col>&lt;int&gt;</th><th scope=col>&lt;chr&gt;</th><th scope=col>&lt;dbl&gt;</th><th scope=col>&lt;dbl&gt;</th><th scope=col>&lt;dbl&gt;</th><th scope=col>&lt;dbl&gt;</th></tr>\n",
       "</thead>\n",
       "<tbody>\n",
       "\t<tr><th scope=row>1</th><td>  0</td><td>0c  </td><td>0</td><td>0</td><td>0</td><td>0</td></tr>\n",
       "\t<tr><th scope=row>2</th><td> 16</td><td>1c1m</td><td>1</td><td>0</td><td>0</td><td>1</td></tr>\n",
       "\t<tr><th scope=row>3</th><td> 57</td><td>2c2m</td><td>2</td><td>0</td><td>0</td><td>2</td></tr>\n",
       "\t<tr><th scope=row>4</th><td>270</td><td>1c1s</td><td>1</td><td>0</td><td>1</td><td>0</td></tr>\n",
       "\t<tr><th scope=row>5</th><td>573</td><td>1c1f</td><td>1</td><td>1</td><td>0</td><td>0</td></tr>\n",
       "\t<tr><th scope=row>6</th><td>649</td><td>4c4m</td><td>4</td><td>0</td><td>0</td><td>4</td></tr>\n",
       "</tbody>\n",
       "</table>\n"
      ],
      "text/latex": [
       "A data.frame: 6 × 6\n",
       "\\begin{tabular}{r|llllll}\n",
       "  & X & casualties\\_id & casualties & fatalities & serious\\_injuries & minor\\_injuries\\\\\n",
       "  & <int> & <chr> & <dbl> & <dbl> & <dbl> & <dbl>\\\\\n",
       "\\hline\n",
       "\t1 &   0 & 0c   & 0 & 0 & 0 & 0\\\\\n",
       "\t2 &  16 & 1c1m & 1 & 0 & 0 & 1\\\\\n",
       "\t3 &  57 & 2c2m & 2 & 0 & 0 & 2\\\\\n",
       "\t4 & 270 & 1c1s & 1 & 0 & 1 & 0\\\\\n",
       "\t5 & 573 & 1c1f & 1 & 1 & 0 & 0\\\\\n",
       "\t6 & 649 & 4c4m & 4 & 0 & 0 & 4\\\\\n",
       "\\end{tabular}\n"
      ],
      "text/markdown": [
       "\n",
       "A data.frame: 6 × 6\n",
       "\n",
       "| <!--/--> | X &lt;int&gt; | casualties_id &lt;chr&gt; | casualties &lt;dbl&gt; | fatalities &lt;dbl&gt; | serious_injuries &lt;dbl&gt; | minor_injuries &lt;dbl&gt; |\n",
       "|---|---|---|---|---|---|---|\n",
       "| 1 |   0 | 0c   | 0 | 0 | 0 | 0 |\n",
       "| 2 |  16 | 1c1m | 1 | 0 | 0 | 1 |\n",
       "| 3 |  57 | 2c2m | 2 | 0 | 0 | 2 |\n",
       "| 4 | 270 | 1c1s | 1 | 0 | 1 | 0 |\n",
       "| 5 | 573 | 1c1f | 1 | 1 | 0 | 0 |\n",
       "| 6 | 649 | 4c4m | 4 | 0 | 0 | 4 |\n",
       "\n"
      ],
      "text/plain": [
       "  X   casualties_id casualties fatalities serious_injuries minor_injuries\n",
       "1   0 0c            0          0          0                0             \n",
       "2  16 1c1m          1          0          0                1             \n",
       "3  57 2c2m          2          0          0                2             \n",
       "4 270 1c1s          1          0          1                0             \n",
       "5 573 1c1f          1          1          0                0             \n",
       "6 649 4c4m          4          0          0                4             "
      ]
     },
     "metadata": {},
     "output_type": "display_data"
    },
    {
     "data": {
      "text/html": [
       "259"
      ],
      "text/latex": [
       "259"
      ],
      "text/markdown": [
       "259"
      ],
      "text/plain": [
       "[1] 259"
      ]
     },
     "metadata": {},
     "output_type": "display_data"
    }
   ],
   "source": [
    "head(casualties)\n",
    "nrow(casualties)"
   ]
  },
  {
   "cell_type": "code",
   "execution_count": 18,
   "id": "1126498d",
   "metadata": {},
   "outputs": [
    {
     "data": {
      "text/html": [
       "<table class=\"dataframe\">\n",
       "<caption>A data.frame: 6 × 7</caption>\n",
       "<thead>\n",
       "\t<tr><th></th><th scope=col>X</th><th scope=col>crash_id</th><th scope=col>lat_long</th><th scope=col>date_time_id</th><th scope=col>description_id</th><th scope=col>vehicles_id</th><th scope=col>casualties_id</th></tr>\n",
       "\t<tr><th></th><th scope=col>&lt;int&gt;</th><th scope=col>&lt;chr&gt;</th><th scope=col>&lt;chr&gt;</th><th scope=col>&lt;chr&gt;</th><th scope=col>&lt;int&gt;</th><th scope=col>&lt;chr&gt;</th><th scope=col>&lt;chr&gt;</th></tr>\n",
       "</thead>\n",
       "<tbody>\n",
       "\t<tr><th scope=row>1</th><td>0</td><td>SA2012-1-21/08/2019</td><td>(-34.914968707994774, 138.62326191400015)</td><td>2012-1--7-16</td><td>0</td><td>1c1b</td><td>0c</td></tr>\n",
       "\t<tr><th scope=row>2</th><td>1</td><td>SA2012-2-21/08/2019</td><td>(-34.945411892314496, 138.61069073873753)</td><td>2012-1--7-9 </td><td>1</td><td>2c  </td><td>0c</td></tr>\n",
       "\t<tr><th scope=row>3</th><td>2</td><td>SA2012-3-21/08/2019</td><td>(-35.348782706688546, 138.4547384995269) </td><td>2012-1--3-11</td><td>2</td><td>2c1i</td><td>0c</td></tr>\n",
       "\t<tr><th scope=row>4</th><td>3</td><td>SA2012-4-21/08/2019</td><td>(-34.91089013663556, 138.56464045685533) </td><td>2012-1--3-10</td><td>3</td><td>2w  </td><td>0c</td></tr>\n",
       "\t<tr><th scope=row>5</th><td>4</td><td>SA2012-5-21/08/2019</td><td>(-34.90523508247097, 138.57241145966046) </td><td>2012-1--3-15</td><td>4</td><td>1c1w</td><td>0c</td></tr>\n",
       "\t<tr><th scope=row>6</th><td>5</td><td>SA2012-6-21/08/2019</td><td>(-34.978174108493754, 138.57376004526358)</td><td>2012-1--5-11</td><td>5</td><td>4c  </td><td>0c</td></tr>\n",
       "</tbody>\n",
       "</table>\n"
      ],
      "text/latex": [
       "A data.frame: 6 × 7\n",
       "\\begin{tabular}{r|lllllll}\n",
       "  & X & crash\\_id & lat\\_long & date\\_time\\_id & description\\_id & vehicles\\_id & casualties\\_id\\\\\n",
       "  & <int> & <chr> & <chr> & <chr> & <int> & <chr> & <chr>\\\\\n",
       "\\hline\n",
       "\t1 & 0 & SA2012-1-21/08/2019 & (-34.914968707994774, 138.62326191400015) & 2012-1--7-16 & 0 & 1c1b & 0c\\\\\n",
       "\t2 & 1 & SA2012-2-21/08/2019 & (-34.945411892314496, 138.61069073873753) & 2012-1--7-9  & 1 & 2c   & 0c\\\\\n",
       "\t3 & 2 & SA2012-3-21/08/2019 & (-35.348782706688546, 138.4547384995269)  & 2012-1--3-11 & 2 & 2c1i & 0c\\\\\n",
       "\t4 & 3 & SA2012-4-21/08/2019 & (-34.91089013663556, 138.56464045685533)  & 2012-1--3-10 & 3 & 2w   & 0c\\\\\n",
       "\t5 & 4 & SA2012-5-21/08/2019 & (-34.90523508247097, 138.57241145966046)  & 2012-1--3-15 & 4 & 1c1w & 0c\\\\\n",
       "\t6 & 5 & SA2012-6-21/08/2019 & (-34.978174108493754, 138.57376004526358) & 2012-1--5-11 & 5 & 4c   & 0c\\\\\n",
       "\\end{tabular}\n"
      ],
      "text/markdown": [
       "\n",
       "A data.frame: 6 × 7\n",
       "\n",
       "| <!--/--> | X &lt;int&gt; | crash_id &lt;chr&gt; | lat_long &lt;chr&gt; | date_time_id &lt;chr&gt; | description_id &lt;int&gt; | vehicles_id &lt;chr&gt; | casualties_id &lt;chr&gt; |\n",
       "|---|---|---|---|---|---|---|---|\n",
       "| 1 | 0 | SA2012-1-21/08/2019 | (-34.914968707994774, 138.62326191400015) | 2012-1--7-16 | 0 | 1c1b | 0c |\n",
       "| 2 | 1 | SA2012-2-21/08/2019 | (-34.945411892314496, 138.61069073873753) | 2012-1--7-9  | 1 | 2c   | 0c |\n",
       "| 3 | 2 | SA2012-3-21/08/2019 | (-35.348782706688546, 138.4547384995269)  | 2012-1--3-11 | 2 | 2c1i | 0c |\n",
       "| 4 | 3 | SA2012-4-21/08/2019 | (-34.91089013663556, 138.56464045685533)  | 2012-1--3-10 | 3 | 2w   | 0c |\n",
       "| 5 | 4 | SA2012-5-21/08/2019 | (-34.90523508247097, 138.57241145966046)  | 2012-1--3-15 | 4 | 1c1w | 0c |\n",
       "| 6 | 5 | SA2012-6-21/08/2019 | (-34.978174108493754, 138.57376004526358) | 2012-1--5-11 | 5 | 4c   | 0c |\n",
       "\n"
      ],
      "text/plain": [
       "  X crash_id            lat_long                                  date_time_id\n",
       "1 0 SA2012-1-21/08/2019 (-34.914968707994774, 138.62326191400015) 2012-1--7-16\n",
       "2 1 SA2012-2-21/08/2019 (-34.945411892314496, 138.61069073873753) 2012-1--7-9 \n",
       "3 2 SA2012-3-21/08/2019 (-35.348782706688546, 138.4547384995269)  2012-1--3-11\n",
       "4 3 SA2012-4-21/08/2019 (-34.91089013663556, 138.56464045685533)  2012-1--3-10\n",
       "5 4 SA2012-5-21/08/2019 (-34.90523508247097, 138.57241145966046)  2012-1--3-15\n",
       "6 5 SA2012-6-21/08/2019 (-34.978174108493754, 138.57376004526358) 2012-1--5-11\n",
       "  description_id vehicles_id casualties_id\n",
       "1 0              1c1b        0c           \n",
       "2 1              2c          0c           \n",
       "3 2              2c1i        0c           \n",
       "4 3              2w          0c           \n",
       "5 4              1c1w        0c           \n",
       "6 5              4c          0c           "
      ]
     },
     "metadata": {},
     "output_type": "display_data"
    },
    {
     "data": {
      "text/html": [
       "1519455"
      ],
      "text/latex": [
       "1519455"
      ],
      "text/markdown": [
       "1519455"
      ],
      "text/plain": [
       "[1] 1519455"
      ]
     },
     "metadata": {},
     "output_type": "display_data"
    }
   ],
   "source": [
    "head(crash)\n",
    "nrow(crash)"
   ]
  },
  {
   "cell_type": "code",
   "execution_count": 19,
   "id": "cc43384c",
   "metadata": {},
   "outputs": [
    {
     "data": {
      "text/html": [
       "<table class=\"dataframe\">\n",
       "<caption>A data.frame: 6 × 8</caption>\n",
       "<thead>\n",
       "\t<tr><th></th><th scope=col>X</th><th scope=col>date_time_id</th><th scope=col>year</th><th scope=col>month</th><th scope=col>day_of_week</th><th scope=col>day_of_month</th><th scope=col>hour</th><th scope=col>approximate</th></tr>\n",
       "\t<tr><th></th><th scope=col>&lt;int&gt;</th><th scope=col>&lt;chr&gt;</th><th scope=col>&lt;int&gt;</th><th scope=col>&lt;dbl&gt;</th><th scope=col>&lt;dbl&gt;</th><th scope=col>&lt;dbl&gt;</th><th scope=col>&lt;dbl&gt;</th><th scope=col>&lt;chr&gt;</th></tr>\n",
       "</thead>\n",
       "<tbody>\n",
       "\t<tr><th scope=row>1</th><td>0</td><td>2012-1--7-16</td><td>2012</td><td>1</td><td>7</td><td>NA</td><td>16</td><td>True</td></tr>\n",
       "\t<tr><th scope=row>2</th><td>1</td><td>2012-1--7-9 </td><td>2012</td><td>1</td><td>7</td><td>NA</td><td> 9</td><td>True</td></tr>\n",
       "\t<tr><th scope=row>3</th><td>2</td><td>2012-1--3-11</td><td>2012</td><td>1</td><td>3</td><td>NA</td><td>11</td><td>True</td></tr>\n",
       "\t<tr><th scope=row>4</th><td>3</td><td>2012-1--3-10</td><td>2012</td><td>1</td><td>3</td><td>NA</td><td>10</td><td>True</td></tr>\n",
       "\t<tr><th scope=row>5</th><td>4</td><td>2012-1--3-15</td><td>2012</td><td>1</td><td>3</td><td>NA</td><td>15</td><td>True</td></tr>\n",
       "\t<tr><th scope=row>6</th><td>5</td><td>2012-1--5-11</td><td>2012</td><td>1</td><td>5</td><td>NA</td><td>11</td><td>True</td></tr>\n",
       "</tbody>\n",
       "</table>\n"
      ],
      "text/latex": [
       "A data.frame: 6 × 8\n",
       "\\begin{tabular}{r|llllllll}\n",
       "  & X & date\\_time\\_id & year & month & day\\_of\\_week & day\\_of\\_month & hour & approximate\\\\\n",
       "  & <int> & <chr> & <int> & <dbl> & <dbl> & <dbl> & <dbl> & <chr>\\\\\n",
       "\\hline\n",
       "\t1 & 0 & 2012-1--7-16 & 2012 & 1 & 7 & NA & 16 & True\\\\\n",
       "\t2 & 1 & 2012-1--7-9  & 2012 & 1 & 7 & NA &  9 & True\\\\\n",
       "\t3 & 2 & 2012-1--3-11 & 2012 & 1 & 3 & NA & 11 & True\\\\\n",
       "\t4 & 3 & 2012-1--3-10 & 2012 & 1 & 3 & NA & 10 & True\\\\\n",
       "\t5 & 4 & 2012-1--3-15 & 2012 & 1 & 3 & NA & 15 & True\\\\\n",
       "\t6 & 5 & 2012-1--5-11 & 2012 & 1 & 5 & NA & 11 & True\\\\\n",
       "\\end{tabular}\n"
      ],
      "text/markdown": [
       "\n",
       "A data.frame: 6 × 8\n",
       "\n",
       "| <!--/--> | X &lt;int&gt; | date_time_id &lt;chr&gt; | year &lt;int&gt; | month &lt;dbl&gt; | day_of_week &lt;dbl&gt; | day_of_month &lt;dbl&gt; | hour &lt;dbl&gt; | approximate &lt;chr&gt; |\n",
       "|---|---|---|---|---|---|---|---|---|\n",
       "| 1 | 0 | 2012-1--7-16 | 2012 | 1 | 7 | NA | 16 | True |\n",
       "| 2 | 1 | 2012-1--7-9  | 2012 | 1 | 7 | NA |  9 | True |\n",
       "| 3 | 2 | 2012-1--3-11 | 2012 | 1 | 3 | NA | 11 | True |\n",
       "| 4 | 3 | 2012-1--3-10 | 2012 | 1 | 3 | NA | 10 | True |\n",
       "| 5 | 4 | 2012-1--3-15 | 2012 | 1 | 3 | NA | 15 | True |\n",
       "| 6 | 5 | 2012-1--5-11 | 2012 | 1 | 5 | NA | 11 | True |\n",
       "\n"
      ],
      "text/plain": [
       "  X date_time_id year month day_of_week day_of_month hour approximate\n",
       "1 0 2012-1--7-16 2012 1     7           NA           16   True       \n",
       "2 1 2012-1--7-9  2012 1     7           NA            9   True       \n",
       "3 2 2012-1--3-11 2012 1     3           NA           11   True       \n",
       "4 3 2012-1--3-10 2012 1     3           NA           10   True       \n",
       "5 4 2012-1--3-15 2012 1     3           NA           15   True       \n",
       "6 5 2012-1--5-11 2012 1     5           NA           11   True       "
      ]
     },
     "metadata": {},
     "output_type": "display_data"
    },
    {
     "data": {
      "text/html": [
       "127505"
      ],
      "text/latex": [
       "127505"
      ],
      "text/markdown": [
       "127505"
      ],
      "text/plain": [
       "[1] 127505"
      ]
     },
     "metadata": {},
     "output_type": "display_data"
    }
   ],
   "source": [
    "head(datatime)\n",
    "nrow(datatime)"
   ]
  },
  {
   "cell_type": "code",
   "execution_count": 20,
   "id": "044d6994",
   "metadata": {},
   "outputs": [
    {
     "data": {
      "text/html": [
       "<table class=\"dataframe\">\n",
       "<caption>A data.frame: 6 × 17</caption>\n",
       "<thead>\n",
       "\t<tr><th></th><th scope=col>X</th><th scope=col>description_id</th><th scope=col>severity</th><th scope=col>speed_limit</th><th scope=col>midblock</th><th scope=col>intersection</th><th scope=col>road_position_horizontal</th><th scope=col>road_position_vertical</th><th scope=col>road_sealed</th><th scope=col>road_wet</th><th scope=col>weather</th><th scope=col>crash_type</th><th scope=col>lighting</th><th scope=col>traffic_controls</th><th scope=col>drugs_alcohol</th><th scope=col>DCA_code</th><th scope=col>comment</th></tr>\n",
       "\t<tr><th></th><th scope=col>&lt;int&gt;</th><th scope=col>&lt;int&gt;</th><th scope=col>&lt;chr&gt;</th><th scope=col>&lt;chr&gt;</th><th scope=col>&lt;chr&gt;</th><th scope=col>&lt;chr&gt;</th><th scope=col>&lt;chr&gt;</th><th scope=col>&lt;chr&gt;</th><th scope=col>&lt;chr&gt;</th><th scope=col>&lt;chr&gt;</th><th scope=col>&lt;chr&gt;</th><th scope=col>&lt;chr&gt;</th><th scope=col>&lt;chr&gt;</th><th scope=col>&lt;chr&gt;</th><th scope=col>&lt;chr&gt;</th><th scope=col>&lt;dbl&gt;</th><th scope=col>&lt;chr&gt;</th></tr>\n",
       "</thead>\n",
       "<tbody>\n",
       "\t<tr><th scope=row>1</th><td>0</td><td>0</td><td>property_damage</td><td>60 </td><td>True </td><td>False</td><td>straight</td><td>level</td><td>True</td><td>False</td><td>fine</td><td>Right Angle       </td><td>daylight</td><td>none          </td><td></td><td>NA</td><td></td></tr>\n",
       "\t<tr><th scope=row>2</th><td>1</td><td>1</td><td>property_damage</td><td>40 </td><td>True </td><td>False</td><td>straight</td><td>level</td><td>True</td><td>False</td><td>fine</td><td>Hit Parked Vehicle</td><td>daylight</td><td>none          </td><td></td><td>NA</td><td></td></tr>\n",
       "\t<tr><th scope=row>3</th><td>2</td><td>2</td><td>property_damage</td><td>100</td><td>True </td><td>False</td><td>straight</td><td>slope</td><td>True</td><td>False</td><td>fine</td><td>Other             </td><td>daylight</td><td>none          </td><td></td><td>NA</td><td></td></tr>\n",
       "\t<tr><th scope=row>4</th><td>3</td><td>3</td><td>property_damage</td><td>60 </td><td>False</td><td>True </td><td>straight</td><td>level</td><td>True</td><td>False</td><td>fine</td><td>Rear End          </td><td>daylight</td><td>stop_sign     </td><td></td><td>NA</td><td></td></tr>\n",
       "\t<tr><th scope=row>5</th><td>4</td><td>4</td><td>property_damage</td><td>60 </td><td>False</td><td>True </td><td>straight</td><td>level</td><td>True</td><td>False</td><td>fine</td><td>Rear End          </td><td>daylight</td><td>traffic_lights</td><td></td><td>NA</td><td></td></tr>\n",
       "\t<tr><th scope=row>6</th><td>5</td><td>5</td><td>property_damage</td><td>60 </td><td>False</td><td>True </td><td>straight</td><td>level</td><td>True</td><td>False</td><td>fine</td><td>Rear End          </td><td>daylight</td><td>traffic_lights</td><td></td><td>NA</td><td></td></tr>\n",
       "</tbody>\n",
       "</table>\n"
      ],
      "text/latex": [
       "A data.frame: 6 × 17\n",
       "\\begin{tabular}{r|lllllllllllllllll}\n",
       "  & X & description\\_id & severity & speed\\_limit & midblock & intersection & road\\_position\\_horizontal & road\\_position\\_vertical & road\\_sealed & road\\_wet & weather & crash\\_type & lighting & traffic\\_controls & drugs\\_alcohol & DCA\\_code & comment\\\\\n",
       "  & <int> & <int> & <chr> & <chr> & <chr> & <chr> & <chr> & <chr> & <chr> & <chr> & <chr> & <chr> & <chr> & <chr> & <chr> & <dbl> & <chr>\\\\\n",
       "\\hline\n",
       "\t1 & 0 & 0 & property\\_damage & 60  & True  & False & straight & level & True & False & fine & Right Angle        & daylight & none           &  & NA & \\\\\n",
       "\t2 & 1 & 1 & property\\_damage & 40  & True  & False & straight & level & True & False & fine & Hit Parked Vehicle & daylight & none           &  & NA & \\\\\n",
       "\t3 & 2 & 2 & property\\_damage & 100 & True  & False & straight & slope & True & False & fine & Other              & daylight & none           &  & NA & \\\\\n",
       "\t4 & 3 & 3 & property\\_damage & 60  & False & True  & straight & level & True & False & fine & Rear End           & daylight & stop\\_sign      &  & NA & \\\\\n",
       "\t5 & 4 & 4 & property\\_damage & 60  & False & True  & straight & level & True & False & fine & Rear End           & daylight & traffic\\_lights &  & NA & \\\\\n",
       "\t6 & 5 & 5 & property\\_damage & 60  & False & True  & straight & level & True & False & fine & Rear End           & daylight & traffic\\_lights &  & NA & \\\\\n",
       "\\end{tabular}\n"
      ],
      "text/markdown": [
       "\n",
       "A data.frame: 6 × 17\n",
       "\n",
       "| <!--/--> | X &lt;int&gt; | description_id &lt;int&gt; | severity &lt;chr&gt; | speed_limit &lt;chr&gt; | midblock &lt;chr&gt; | intersection &lt;chr&gt; | road_position_horizontal &lt;chr&gt; | road_position_vertical &lt;chr&gt; | road_sealed &lt;chr&gt; | road_wet &lt;chr&gt; | weather &lt;chr&gt; | crash_type &lt;chr&gt; | lighting &lt;chr&gt; | traffic_controls &lt;chr&gt; | drugs_alcohol &lt;chr&gt; | DCA_code &lt;dbl&gt; | comment &lt;chr&gt; |\n",
       "|---|---|---|---|---|---|---|---|---|---|---|---|---|---|---|---|---|---|\n",
       "| 1 | 0 | 0 | property_damage | 60  | True  | False | straight | level | True | False | fine | Right Angle        | daylight | none           | <!----> | NA | <!----> |\n",
       "| 2 | 1 | 1 | property_damage | 40  | True  | False | straight | level | True | False | fine | Hit Parked Vehicle | daylight | none           | <!----> | NA | <!----> |\n",
       "| 3 | 2 | 2 | property_damage | 100 | True  | False | straight | slope | True | False | fine | Other              | daylight | none           | <!----> | NA | <!----> |\n",
       "| 4 | 3 | 3 | property_damage | 60  | False | True  | straight | level | True | False | fine | Rear End           | daylight | stop_sign      | <!----> | NA | <!----> |\n",
       "| 5 | 4 | 4 | property_damage | 60  | False | True  | straight | level | True | False | fine | Rear End           | daylight | traffic_lights | <!----> | NA | <!----> |\n",
       "| 6 | 5 | 5 | property_damage | 60  | False | True  | straight | level | True | False | fine | Rear End           | daylight | traffic_lights | <!----> | NA | <!----> |\n",
       "\n"
      ],
      "text/plain": [
       "  X description_id severity        speed_limit midblock intersection\n",
       "1 0 0              property_damage 60          True     False       \n",
       "2 1 1              property_damage 40          True     False       \n",
       "3 2 2              property_damage 100         True     False       \n",
       "4 3 3              property_damage 60          False    True        \n",
       "5 4 4              property_damage 60          False    True        \n",
       "6 5 5              property_damage 60          False    True        \n",
       "  road_position_horizontal road_position_vertical road_sealed road_wet weather\n",
       "1 straight                 level                  True        False    fine   \n",
       "2 straight                 level                  True        False    fine   \n",
       "3 straight                 slope                  True        False    fine   \n",
       "4 straight                 level                  True        False    fine   \n",
       "5 straight                 level                  True        False    fine   \n",
       "6 straight                 level                  True        False    fine   \n",
       "  crash_type         lighting traffic_controls drugs_alcohol DCA_code comment\n",
       "1 Right Angle        daylight none                           NA              \n",
       "2 Hit Parked Vehicle daylight none                           NA              \n",
       "3 Other              daylight none                           NA              \n",
       "4 Rear End           daylight stop_sign                      NA              \n",
       "5 Rear End           daylight traffic_lights                 NA              \n",
       "6 Rear End           daylight traffic_lights                 NA              "
      ]
     },
     "metadata": {},
     "output_type": "display_data"
    },
    {
     "data": {
      "text/html": [
       "1519455"
      ],
      "text/latex": [
       "1519455"
      ],
      "text/markdown": [
       "1519455"
      ],
      "text/plain": [
       "[1] 1519455"
      ]
     },
     "metadata": {},
     "output_type": "display_data"
    }
   ],
   "source": [
    "head(description)\n",
    "nrow(description)"
   ]
  },
  {
   "cell_type": "code",
   "execution_count": 21,
   "id": "bd295a4a",
   "metadata": {},
   "outputs": [
    {
     "data": {
      "text/html": [
       "<table class=\"dataframe\">\n",
       "<caption>A data.frame: 6 × 9</caption>\n",
       "<thead>\n",
       "\t<tr><th></th><th scope=col>X</th><th scope=col>lat_long</th><th scope=col>latitude</th><th scope=col>longitude</th><th scope=col>country</th><th scope=col>state</th><th scope=col>local_government_area</th><th scope=col>statistical_area</th><th scope=col>suburb</th></tr>\n",
       "\t<tr><th></th><th scope=col>&lt;int&gt;</th><th scope=col>&lt;chr&gt;</th><th scope=col>&lt;dbl&gt;</th><th scope=col>&lt;dbl&gt;</th><th scope=col>&lt;chr&gt;</th><th scope=col>&lt;chr&gt;</th><th scope=col>&lt;chr&gt;</th><th scope=col>&lt;chr&gt;</th><th scope=col>&lt;chr&gt;</th></tr>\n",
       "</thead>\n",
       "<tbody>\n",
       "\t<tr><th scope=row>1</th><td>0</td><td>(-34.914968707994774, 138.62326191400015)</td><td>-34.91497</td><td>138.6233</td><td>AU</td><td>SA</td><td>CC OF NORWOOD,PAYNEHAM &amp; ST PETERS</td><td></td><td><span style=white-space:pre-wrap>STEPNEY       </span></td></tr>\n",
       "\t<tr><th scope=row>2</th><td>1</td><td>(-34.945411892314496, 138.61069073873753)</td><td>-34.94541</td><td>138.6107</td><td>AU</td><td>SA</td><td>CITY OF UNLEY                     </td><td></td><td>PARKSIDE      </td></tr>\n",
       "\t<tr><th scope=row>3</th><td>2</td><td>(-35.348782706688546, 138.4547384995269) </td><td>-35.34878</td><td>138.4547</td><td>AU</td><td>SA</td><td>CITY OF ONKAPARINGA               </td><td></td><td>SELLICKS BEACH</td></tr>\n",
       "\t<tr><th scope=row>4</th><td>3</td><td>(-34.91089013663556, 138.56464045685533) </td><td>-34.91089</td><td>138.5646</td><td>AU</td><td>SA</td><td>CITY OF CHARLES STURT             </td><td></td><td>HINDMARSH     </td></tr>\n",
       "\t<tr><th scope=row>5</th><td>4</td><td>(-34.90523508247097, 138.57241145966046) </td><td>-34.90524</td><td>138.5724</td><td>AU</td><td>SA</td><td>CITY OF CHARLES STURT             </td><td></td><td>HINDMARSH     </td></tr>\n",
       "\t<tr><th scope=row>6</th><td>5</td><td>(-34.978174108493754, 138.57376004526358)</td><td>-34.97817</td><td>138.5738</td><td>AU</td><td>SA</td><td>CC MITCHAM.                       </td><td></td><td>MELROSE PARK  </td></tr>\n",
       "</tbody>\n",
       "</table>\n"
      ],
      "text/latex": [
       "A data.frame: 6 × 9\n",
       "\\begin{tabular}{r|lllllllll}\n",
       "  & X & lat\\_long & latitude & longitude & country & state & local\\_government\\_area & statistical\\_area & suburb\\\\\n",
       "  & <int> & <chr> & <dbl> & <dbl> & <chr> & <chr> & <chr> & <chr> & <chr>\\\\\n",
       "\\hline\n",
       "\t1 & 0 & (-34.914968707994774, 138.62326191400015) & -34.91497 & 138.6233 & AU & SA & CC OF NORWOOD,PAYNEHAM \\& ST PETERS &  & STEPNEY       \\\\\n",
       "\t2 & 1 & (-34.945411892314496, 138.61069073873753) & -34.94541 & 138.6107 & AU & SA & CITY OF UNLEY                      &  & PARKSIDE      \\\\\n",
       "\t3 & 2 & (-35.348782706688546, 138.4547384995269)  & -35.34878 & 138.4547 & AU & SA & CITY OF ONKAPARINGA                &  & SELLICKS BEACH\\\\\n",
       "\t4 & 3 & (-34.91089013663556, 138.56464045685533)  & -34.91089 & 138.5646 & AU & SA & CITY OF CHARLES STURT              &  & HINDMARSH     \\\\\n",
       "\t5 & 4 & (-34.90523508247097, 138.57241145966046)  & -34.90524 & 138.5724 & AU & SA & CITY OF CHARLES STURT              &  & HINDMARSH     \\\\\n",
       "\t6 & 5 & (-34.978174108493754, 138.57376004526358) & -34.97817 & 138.5738 & AU & SA & CC MITCHAM.                        &  & MELROSE PARK  \\\\\n",
       "\\end{tabular}\n"
      ],
      "text/markdown": [
       "\n",
       "A data.frame: 6 × 9\n",
       "\n",
       "| <!--/--> | X &lt;int&gt; | lat_long &lt;chr&gt; | latitude &lt;dbl&gt; | longitude &lt;dbl&gt; | country &lt;chr&gt; | state &lt;chr&gt; | local_government_area &lt;chr&gt; | statistical_area &lt;chr&gt; | suburb &lt;chr&gt; |\n",
       "|---|---|---|---|---|---|---|---|---|---|\n",
       "| 1 | 0 | (-34.914968707994774, 138.62326191400015) | -34.91497 | 138.6233 | AU | SA | CC OF NORWOOD,PAYNEHAM &amp; ST PETERS | <!----> | STEPNEY        |\n",
       "| 2 | 1 | (-34.945411892314496, 138.61069073873753) | -34.94541 | 138.6107 | AU | SA | CITY OF UNLEY                      | <!----> | PARKSIDE       |\n",
       "| 3 | 2 | (-35.348782706688546, 138.4547384995269)  | -35.34878 | 138.4547 | AU | SA | CITY OF ONKAPARINGA                | <!----> | SELLICKS BEACH |\n",
       "| 4 | 3 | (-34.91089013663556, 138.56464045685533)  | -34.91089 | 138.5646 | AU | SA | CITY OF CHARLES STURT              | <!----> | HINDMARSH      |\n",
       "| 5 | 4 | (-34.90523508247097, 138.57241145966046)  | -34.90524 | 138.5724 | AU | SA | CITY OF CHARLES STURT              | <!----> | HINDMARSH      |\n",
       "| 6 | 5 | (-34.978174108493754, 138.57376004526358) | -34.97817 | 138.5738 | AU | SA | CC MITCHAM.                        | <!----> | MELROSE PARK   |\n",
       "\n"
      ],
      "text/plain": [
       "  X lat_long                                  latitude  longitude country state\n",
       "1 0 (-34.914968707994774, 138.62326191400015) -34.91497 138.6233  AU      SA   \n",
       "2 1 (-34.945411892314496, 138.61069073873753) -34.94541 138.6107  AU      SA   \n",
       "3 2 (-35.348782706688546, 138.4547384995269)  -35.34878 138.4547  AU      SA   \n",
       "4 3 (-34.91089013663556, 138.56464045685533)  -34.91089 138.5646  AU      SA   \n",
       "5 4 (-34.90523508247097, 138.57241145966046)  -34.90524 138.5724  AU      SA   \n",
       "6 5 (-34.978174108493754, 138.57376004526358) -34.97817 138.5738  AU      SA   \n",
       "  local_government_area              statistical_area suburb        \n",
       "1 CC OF NORWOOD,PAYNEHAM & ST PETERS                  STEPNEY       \n",
       "2 CITY OF UNLEY                                       PARKSIDE      \n",
       "3 CITY OF ONKAPARINGA                                 SELLICKS BEACH\n",
       "4 CITY OF CHARLES STURT                               HINDMARSH     \n",
       "5 CITY OF CHARLES STURT                               HINDMARSH     \n",
       "6 CC MITCHAM.                                         MELROSE PARK  "
      ]
     },
     "metadata": {},
     "output_type": "display_data"
    },
    {
     "data": {
      "text/html": [
       "922134"
      ],
      "text/latex": [
       "922134"
      ],
      "text/markdown": [
       "922134"
      ],
      "text/plain": [
       "[1] 922134"
      ]
     },
     "metadata": {},
     "output_type": "display_data"
    }
   ],
   "source": [
    "head(location)\n",
    "nrow(location)"
   ]
  },
  {
   "cell_type": "code",
   "execution_count": 22,
   "id": "ef1b5659",
   "metadata": {},
   "outputs": [
    {
     "data": {
      "text/html": [
       "<table class=\"dataframe\">\n",
       "<caption>A data.frame: 6 × 20</caption>\n",
       "<thead>\n",
       "\t<tr><th></th><th scope=col>X</th><th scope=col>vehicles_id</th><th scope=col>animals</th><th scope=col>car_sedan</th><th scope=col>car_utility</th><th scope=col>car_van</th><th scope=col>car_4x4</th><th scope=col>car_station_wagon</th><th scope=col>motor_cycle</th><th scope=col>truck_small</th><th scope=col>truck_large</th><th scope=col>bus</th><th scope=col>taxi</th><th scope=col>bicycle</th><th scope=col>scooter</th><th scope=col>pedestrian</th><th scope=col>inanimate</th><th scope=col>train</th><th scope=col>tram</th><th scope=col>vehicle_other</th></tr>\n",
       "\t<tr><th></th><th scope=col>&lt;int&gt;</th><th scope=col>&lt;chr&gt;</th><th scope=col>&lt;dbl&gt;</th><th scope=col>&lt;dbl&gt;</th><th scope=col>&lt;dbl&gt;</th><th scope=col>&lt;dbl&gt;</th><th scope=col>&lt;dbl&gt;</th><th scope=col>&lt;dbl&gt;</th><th scope=col>&lt;dbl&gt;</th><th scope=col>&lt;dbl&gt;</th><th scope=col>&lt;dbl&gt;</th><th scope=col>&lt;dbl&gt;</th><th scope=col>&lt;dbl&gt;</th><th scope=col>&lt;dbl&gt;</th><th scope=col>&lt;dbl&gt;</th><th scope=col>&lt;dbl&gt;</th><th scope=col>&lt;dbl&gt;</th><th scope=col>&lt;dbl&gt;</th><th scope=col>&lt;dbl&gt;</th><th scope=col>&lt;dbl&gt;</th></tr>\n",
       "</thead>\n",
       "<tbody>\n",
       "\t<tr><th scope=row>1</th><td>0</td><td>1c1b</td><td>0</td><td>1</td><td>0</td><td>0</td><td>0</td><td>0</td><td>0</td><td>0</td><td>0</td><td>0</td><td>0</td><td>1</td><td>0</td><td>0</td><td>0</td><td>0</td><td>0</td><td>0</td></tr>\n",
       "\t<tr><th scope=row>2</th><td>1</td><td>2c  </td><td>0</td><td>2</td><td>0</td><td>0</td><td>0</td><td>0</td><td>0</td><td>0</td><td>0</td><td>0</td><td>0</td><td>0</td><td>0</td><td>0</td><td>0</td><td>0</td><td>0</td><td>0</td></tr>\n",
       "\t<tr><th scope=row>3</th><td>2</td><td>2c1i</td><td>0</td><td>2</td><td>0</td><td>0</td><td>0</td><td>0</td><td>0</td><td>0</td><td>0</td><td>0</td><td>0</td><td>0</td><td>0</td><td>0</td><td>1</td><td>0</td><td>0</td><td>0</td></tr>\n",
       "\t<tr><th scope=row>4</th><td>3</td><td>2w  </td><td>0</td><td>0</td><td>0</td><td>0</td><td>0</td><td>2</td><td>0</td><td>0</td><td>0</td><td>0</td><td>0</td><td>0</td><td>0</td><td>0</td><td>0</td><td>0</td><td>0</td><td>0</td></tr>\n",
       "\t<tr><th scope=row>5</th><td>4</td><td>1c1w</td><td>0</td><td>1</td><td>0</td><td>0</td><td>0</td><td>1</td><td>0</td><td>0</td><td>0</td><td>0</td><td>0</td><td>0</td><td>0</td><td>0</td><td>0</td><td>0</td><td>0</td><td>0</td></tr>\n",
       "\t<tr><th scope=row>6</th><td>5</td><td>4c  </td><td>0</td><td>4</td><td>0</td><td>0</td><td>0</td><td>0</td><td>0</td><td>0</td><td>0</td><td>0</td><td>0</td><td>0</td><td>0</td><td>0</td><td>0</td><td>0</td><td>0</td><td>0</td></tr>\n",
       "</tbody>\n",
       "</table>\n"
      ],
      "text/latex": [
       "A data.frame: 6 × 20\n",
       "\\begin{tabular}{r|llllllllllllllllllll}\n",
       "  & X & vehicles\\_id & animals & car\\_sedan & car\\_utility & car\\_van & car\\_4x4 & car\\_station\\_wagon & motor\\_cycle & truck\\_small & truck\\_large & bus & taxi & bicycle & scooter & pedestrian & inanimate & train & tram & vehicle\\_other\\\\\n",
       "  & <int> & <chr> & <dbl> & <dbl> & <dbl> & <dbl> & <dbl> & <dbl> & <dbl> & <dbl> & <dbl> & <dbl> & <dbl> & <dbl> & <dbl> & <dbl> & <dbl> & <dbl> & <dbl> & <dbl>\\\\\n",
       "\\hline\n",
       "\t1 & 0 & 1c1b & 0 & 1 & 0 & 0 & 0 & 0 & 0 & 0 & 0 & 0 & 0 & 1 & 0 & 0 & 0 & 0 & 0 & 0\\\\\n",
       "\t2 & 1 & 2c   & 0 & 2 & 0 & 0 & 0 & 0 & 0 & 0 & 0 & 0 & 0 & 0 & 0 & 0 & 0 & 0 & 0 & 0\\\\\n",
       "\t3 & 2 & 2c1i & 0 & 2 & 0 & 0 & 0 & 0 & 0 & 0 & 0 & 0 & 0 & 0 & 0 & 0 & 1 & 0 & 0 & 0\\\\\n",
       "\t4 & 3 & 2w   & 0 & 0 & 0 & 0 & 0 & 2 & 0 & 0 & 0 & 0 & 0 & 0 & 0 & 0 & 0 & 0 & 0 & 0\\\\\n",
       "\t5 & 4 & 1c1w & 0 & 1 & 0 & 0 & 0 & 1 & 0 & 0 & 0 & 0 & 0 & 0 & 0 & 0 & 0 & 0 & 0 & 0\\\\\n",
       "\t6 & 5 & 4c   & 0 & 4 & 0 & 0 & 0 & 0 & 0 & 0 & 0 & 0 & 0 & 0 & 0 & 0 & 0 & 0 & 0 & 0\\\\\n",
       "\\end{tabular}\n"
      ],
      "text/markdown": [
       "\n",
       "A data.frame: 6 × 20\n",
       "\n",
       "| <!--/--> | X &lt;int&gt; | vehicles_id &lt;chr&gt; | animals &lt;dbl&gt; | car_sedan &lt;dbl&gt; | car_utility &lt;dbl&gt; | car_van &lt;dbl&gt; | car_4x4 &lt;dbl&gt; | car_station_wagon &lt;dbl&gt; | motor_cycle &lt;dbl&gt; | truck_small &lt;dbl&gt; | truck_large &lt;dbl&gt; | bus &lt;dbl&gt; | taxi &lt;dbl&gt; | bicycle &lt;dbl&gt; | scooter &lt;dbl&gt; | pedestrian &lt;dbl&gt; | inanimate &lt;dbl&gt; | train &lt;dbl&gt; | tram &lt;dbl&gt; | vehicle_other &lt;dbl&gt; |\n",
       "|---|---|---|---|---|---|---|---|---|---|---|---|---|---|---|---|---|---|---|---|---|\n",
       "| 1 | 0 | 1c1b | 0 | 1 | 0 | 0 | 0 | 0 | 0 | 0 | 0 | 0 | 0 | 1 | 0 | 0 | 0 | 0 | 0 | 0 |\n",
       "| 2 | 1 | 2c   | 0 | 2 | 0 | 0 | 0 | 0 | 0 | 0 | 0 | 0 | 0 | 0 | 0 | 0 | 0 | 0 | 0 | 0 |\n",
       "| 3 | 2 | 2c1i | 0 | 2 | 0 | 0 | 0 | 0 | 0 | 0 | 0 | 0 | 0 | 0 | 0 | 0 | 1 | 0 | 0 | 0 |\n",
       "| 4 | 3 | 2w   | 0 | 0 | 0 | 0 | 0 | 2 | 0 | 0 | 0 | 0 | 0 | 0 | 0 | 0 | 0 | 0 | 0 | 0 |\n",
       "| 5 | 4 | 1c1w | 0 | 1 | 0 | 0 | 0 | 1 | 0 | 0 | 0 | 0 | 0 | 0 | 0 | 0 | 0 | 0 | 0 | 0 |\n",
       "| 6 | 5 | 4c   | 0 | 4 | 0 | 0 | 0 | 0 | 0 | 0 | 0 | 0 | 0 | 0 | 0 | 0 | 0 | 0 | 0 | 0 |\n",
       "\n"
      ],
      "text/plain": [
       "  X vehicles_id animals car_sedan car_utility car_van car_4x4 car_station_wagon\n",
       "1 0 1c1b        0       1         0           0       0       0                \n",
       "2 1 2c          0       2         0           0       0       0                \n",
       "3 2 2c1i        0       2         0           0       0       0                \n",
       "4 3 2w          0       0         0           0       0       2                \n",
       "5 4 1c1w        0       1         0           0       0       1                \n",
       "6 5 4c          0       4         0           0       0       0                \n",
       "  motor_cycle truck_small truck_large bus taxi bicycle scooter pedestrian\n",
       "1 0           0           0           0   0    1       0       0         \n",
       "2 0           0           0           0   0    0       0       0         \n",
       "3 0           0           0           0   0    0       0       0         \n",
       "4 0           0           0           0   0    0       0       0         \n",
       "5 0           0           0           0   0    0       0       0         \n",
       "6 0           0           0           0   0    0       0       0         \n",
       "  inanimate train tram vehicle_other\n",
       "1 0         0     0    0            \n",
       "2 0         0     0    0            \n",
       "3 1         0     0    0            \n",
       "4 0         0     0    0            \n",
       "5 0         0     0    0            \n",
       "6 0         0     0    0            "
      ]
     },
     "metadata": {},
     "output_type": "display_data"
    },
    {
     "data": {
      "text/html": [
       "2434"
      ],
      "text/latex": [
       "2434"
      ],
      "text/markdown": [
       "2434"
      ],
      "text/plain": [
       "[1] 2434"
      ]
     },
     "metadata": {},
     "output_type": "display_data"
    }
   ],
   "source": [
    "head(vehicles)\n",
    "nrow(vehicles)"
   ]
  },
  {
   "cell_type": "code",
   "execution_count": 72,
   "id": "18322782",
   "metadata": {
    "scrolled": true
   },
   "outputs": [
    {
     "data": {
      "text/html": [
       "<table class=\"dataframe\">\n",
       "<caption>A data.frame: 6 × 53</caption>\n",
       "<thead>\n",
       "\t<tr><th></th><th scope=col>X</th><th scope=col>vehicles_id</th><th scope=col>lat_long</th><th scope=col>description_id</th><th scope=col>date_time_id</th><th scope=col>year</th><th scope=col>month</th><th scope=col>day_of_week</th><th scope=col>day_of_month</th><th scope=col>hour</th><th scope=col>...</th><th scope=col>truck_large</th><th scope=col>bus</th><th scope=col>taxi</th><th scope=col>bicycle</th><th scope=col>scooter</th><th scope=col>pedestrian</th><th scope=col>inanimate</th><th scope=col>train</th><th scope=col>tram</th><th scope=col>vehicle_other</th></tr>\n",
       "\t<tr><th></th><th scope=col>&lt;int&gt;</th><th scope=col>&lt;chr&gt;</th><th scope=col>&lt;chr&gt;</th><th scope=col>&lt;int&gt;</th><th scope=col>&lt;chr&gt;</th><th scope=col>&lt;int&gt;</th><th scope=col>&lt;dbl&gt;</th><th scope=col>&lt;dbl&gt;</th><th scope=col>&lt;dbl&gt;</th><th scope=col>&lt;dbl&gt;</th><th scope=col>...</th><th scope=col>&lt;dbl&gt;</th><th scope=col>&lt;dbl&gt;</th><th scope=col>&lt;dbl&gt;</th><th scope=col>&lt;dbl&gt;</th><th scope=col>&lt;dbl&gt;</th><th scope=col>&lt;dbl&gt;</th><th scope=col>&lt;dbl&gt;</th><th scope=col>&lt;dbl&gt;</th><th scope=col>&lt;dbl&gt;</th><th scope=col>&lt;dbl&gt;</th></tr>\n",
       "</thead>\n",
       "<tbody>\n",
       "\t<tr><th scope=row>1</th><td>0</td><td>1c1b</td><td>(-34.914968707994774, 138.62326191400015)</td><td>0</td><td>2012-1--7-16</td><td>2012</td><td>1</td><td>7</td><td>NA</td><td>16</td><td>...</td><td>0</td><td>0</td><td>0</td><td>1</td><td>0</td><td>0</td><td>0</td><td>0</td><td>0</td><td>0</td></tr>\n",
       "\t<tr><th scope=row>2</th><td>1</td><td>2c  </td><td>(-34.945411892314496, 138.61069073873753)</td><td>1</td><td>2012-1--7-9 </td><td>2012</td><td>1</td><td>7</td><td>NA</td><td> 9</td><td>...</td><td>0</td><td>0</td><td>0</td><td>0</td><td>0</td><td>0</td><td>0</td><td>0</td><td>0</td><td>0</td></tr>\n",
       "\t<tr><th scope=row>3</th><td>2</td><td>2c1i</td><td>(-35.348782706688546, 138.4547384995269) </td><td>2</td><td>2012-1--3-11</td><td>2012</td><td>1</td><td>3</td><td>NA</td><td>11</td><td>...</td><td>0</td><td>0</td><td>0</td><td>0</td><td>0</td><td>0</td><td>1</td><td>0</td><td>0</td><td>0</td></tr>\n",
       "\t<tr><th scope=row>4</th><td>3</td><td>2w  </td><td>(-34.91089013663556, 138.56464045685533) </td><td>3</td><td>2012-1--3-10</td><td>2012</td><td>1</td><td>3</td><td>NA</td><td>10</td><td>...</td><td>0</td><td>0</td><td>0</td><td>0</td><td>0</td><td>0</td><td>0</td><td>0</td><td>0</td><td>0</td></tr>\n",
       "\t<tr><th scope=row>5</th><td>4</td><td>1c1w</td><td>(-34.90523508247097, 138.57241145966046) </td><td>4</td><td>2012-1--3-15</td><td>2012</td><td>1</td><td>3</td><td>NA</td><td>15</td><td>...</td><td>0</td><td>0</td><td>0</td><td>0</td><td>0</td><td>0</td><td>0</td><td>0</td><td>0</td><td>0</td></tr>\n",
       "\t<tr><th scope=row>6</th><td>5</td><td>4c  </td><td>(-34.978174108493754, 138.57376004526358)</td><td>5</td><td>2012-1--5-11</td><td>2012</td><td>1</td><td>5</td><td>NA</td><td>11</td><td>...</td><td>0</td><td>0</td><td>0</td><td>0</td><td>0</td><td>0</td><td>0</td><td>0</td><td>0</td><td>0</td></tr>\n",
       "</tbody>\n",
       "</table>\n"
      ],
      "text/latex": [
       "A data.frame: 6 × 53\n",
       "\\begin{tabular}{r|lllllllllllllllllllll}\n",
       "  & X & vehicles\\_id & lat\\_long & description\\_id & date\\_time\\_id & year & month & day\\_of\\_week & day\\_of\\_month & hour & ... & truck\\_large & bus & taxi & bicycle & scooter & pedestrian & inanimate & train & tram & vehicle\\_other\\\\\n",
       "  & <int> & <chr> & <chr> & <int> & <chr> & <int> & <dbl> & <dbl> & <dbl> & <dbl> & ... & <dbl> & <dbl> & <dbl> & <dbl> & <dbl> & <dbl> & <dbl> & <dbl> & <dbl> & <dbl>\\\\\n",
       "\\hline\n",
       "\t1 & 0 & 1c1b & (-34.914968707994774, 138.62326191400015) & 0 & 2012-1--7-16 & 2012 & 1 & 7 & NA & 16 & ... & 0 & 0 & 0 & 1 & 0 & 0 & 0 & 0 & 0 & 0\\\\\n",
       "\t2 & 1 & 2c   & (-34.945411892314496, 138.61069073873753) & 1 & 2012-1--7-9  & 2012 & 1 & 7 & NA &  9 & ... & 0 & 0 & 0 & 0 & 0 & 0 & 0 & 0 & 0 & 0\\\\\n",
       "\t3 & 2 & 2c1i & (-35.348782706688546, 138.4547384995269)  & 2 & 2012-1--3-11 & 2012 & 1 & 3 & NA & 11 & ... & 0 & 0 & 0 & 0 & 0 & 0 & 1 & 0 & 0 & 0\\\\\n",
       "\t4 & 3 & 2w   & (-34.91089013663556, 138.56464045685533)  & 3 & 2012-1--3-10 & 2012 & 1 & 3 & NA & 10 & ... & 0 & 0 & 0 & 0 & 0 & 0 & 0 & 0 & 0 & 0\\\\\n",
       "\t5 & 4 & 1c1w & (-34.90523508247097, 138.57241145966046)  & 4 & 2012-1--3-15 & 2012 & 1 & 3 & NA & 15 & ... & 0 & 0 & 0 & 0 & 0 & 0 & 0 & 0 & 0 & 0\\\\\n",
       "\t6 & 5 & 4c   & (-34.978174108493754, 138.57376004526358) & 5 & 2012-1--5-11 & 2012 & 1 & 5 & NA & 11 & ... & 0 & 0 & 0 & 0 & 0 & 0 & 0 & 0 & 0 & 0\\\\\n",
       "\\end{tabular}\n"
      ],
      "text/markdown": [
       "\n",
       "A data.frame: 6 × 53\n",
       "\n",
       "| <!--/--> | X &lt;int&gt; | vehicles_id &lt;chr&gt; | lat_long &lt;chr&gt; | description_id &lt;int&gt; | date_time_id &lt;chr&gt; | year &lt;int&gt; | month &lt;dbl&gt; | day_of_week &lt;dbl&gt; | day_of_month &lt;dbl&gt; | hour &lt;dbl&gt; | ... ... | truck_large &lt;dbl&gt; | bus &lt;dbl&gt; | taxi &lt;dbl&gt; | bicycle &lt;dbl&gt; | scooter &lt;dbl&gt; | pedestrian &lt;dbl&gt; | inanimate &lt;dbl&gt; | train &lt;dbl&gt; | tram &lt;dbl&gt; | vehicle_other &lt;dbl&gt; |\n",
       "|---|---|---|---|---|---|---|---|---|---|---|---|---|---|---|---|---|---|---|---|---|---|\n",
       "| 1 | 0 | 1c1b | (-34.914968707994774, 138.62326191400015) | 0 | 2012-1--7-16 | 2012 | 1 | 7 | NA | 16 | ... | 0 | 0 | 0 | 1 | 0 | 0 | 0 | 0 | 0 | 0 |\n",
       "| 2 | 1 | 2c   | (-34.945411892314496, 138.61069073873753) | 1 | 2012-1--7-9  | 2012 | 1 | 7 | NA |  9 | ... | 0 | 0 | 0 | 0 | 0 | 0 | 0 | 0 | 0 | 0 |\n",
       "| 3 | 2 | 2c1i | (-35.348782706688546, 138.4547384995269)  | 2 | 2012-1--3-11 | 2012 | 1 | 3 | NA | 11 | ... | 0 | 0 | 0 | 0 | 0 | 0 | 1 | 0 | 0 | 0 |\n",
       "| 4 | 3 | 2w   | (-34.91089013663556, 138.56464045685533)  | 3 | 2012-1--3-10 | 2012 | 1 | 3 | NA | 10 | ... | 0 | 0 | 0 | 0 | 0 | 0 | 0 | 0 | 0 | 0 |\n",
       "| 5 | 4 | 1c1w | (-34.90523508247097, 138.57241145966046)  | 4 | 2012-1--3-15 | 2012 | 1 | 3 | NA | 15 | ... | 0 | 0 | 0 | 0 | 0 | 0 | 0 | 0 | 0 | 0 |\n",
       "| 6 | 5 | 4c   | (-34.978174108493754, 138.57376004526358) | 5 | 2012-1--5-11 | 2012 | 1 | 5 | NA | 11 | ... | 0 | 0 | 0 | 0 | 0 | 0 | 0 | 0 | 0 | 0 |\n",
       "\n"
      ],
      "text/plain": [
       "  X vehicles_id lat_long                                  description_id\n",
       "1 0 1c1b        (-34.914968707994774, 138.62326191400015) 0             \n",
       "2 1 2c          (-34.945411892314496, 138.61069073873753) 1             \n",
       "3 2 2c1i        (-35.348782706688546, 138.4547384995269)  2             \n",
       "4 3 2w          (-34.91089013663556, 138.56464045685533)  3             \n",
       "5 4 1c1w        (-34.90523508247097, 138.57241145966046)  4             \n",
       "6 5 4c          (-34.978174108493754, 138.57376004526358) 5             \n",
       "  date_time_id year month day_of_week day_of_month hour ... truck_large bus\n",
       "1 2012-1--7-16 2012 1     7           NA           16   ... 0           0  \n",
       "2 2012-1--7-9  2012 1     7           NA            9   ... 0           0  \n",
       "3 2012-1--3-11 2012 1     3           NA           11   ... 0           0  \n",
       "4 2012-1--3-10 2012 1     3           NA           10   ... 0           0  \n",
       "5 2012-1--3-15 2012 1     3           NA           15   ... 0           0  \n",
       "6 2012-1--5-11 2012 1     5           NA           11   ... 0           0  \n",
       "  taxi bicycle scooter pedestrian inanimate train tram vehicle_other\n",
       "1 0    1       0       0          0         0     0    0            \n",
       "2 0    0       0       0          0         0     0    0            \n",
       "3 0    0       0       0          1         0     0    0            \n",
       "4 0    0       0       0          0         0     0    0            \n",
       "5 0    0       0       0          0         0     0    0            \n",
       "6 0    0       0       0          0         0     0    0            "
      ]
     },
     "metadata": {},
     "output_type": "display_data"
    },
    {
     "data": {
      "text/html": [
       "1519455"
      ],
      "text/latex": [
       "1519455"
      ],
      "text/markdown": [
       "1519455"
      ],
      "text/plain": [
       "[1] 1519455"
      ]
     },
     "metadata": {},
     "output_type": "display_data"
    }
   ],
   "source": [
    "data = merge_data\n",
    "head(data)\n",
    "nrow(data)"
   ]
  },
  {
   "cell_type": "code",
   "execution_count": 74,
   "id": "7d8f9b42",
   "metadata": {},
   "outputs": [],
   "source": [
    "sa = data[data$state=='SA',]\n",
    "nz = data[data$state=='NZ',]\n",
    "qld = data[data$state=='QLD',]\n",
    "wa = data[data$state=='WA',]\n",
    "act = data[data$state=='ACT',]\n",
    "vic = data[data$state=='VIC',]"
   ]
  },
  {
   "cell_type": "code",
   "execution_count": 73,
   "id": "3a518f8a",
   "metadata": {},
   "outputs": [
    {
     "data": {
      "text/html": [
       "<style>\n",
       ".list-inline {list-style: none; margin:0; padding: 0}\n",
       ".list-inline>li {display: inline-block}\n",
       ".list-inline>li:not(:last-child)::after {content: \"\\00b7\"; padding: 0 .5ex}\n",
       "</style>\n",
       "<ol class=list-inline><li>'SA'</li><li>NA</li><li>'VIC'</li><li>'NZ'</li><li>'QLD'</li><li>'WA'</li><li>'ACT'</li></ol>\n"
      ],
      "text/latex": [
       "\\begin{enumerate*}\n",
       "\\item 'SA'\n",
       "\\item NA\n",
       "\\item 'VIC'\n",
       "\\item 'NZ'\n",
       "\\item 'QLD'\n",
       "\\item 'WA'\n",
       "\\item 'ACT'\n",
       "\\end{enumerate*}\n"
      ],
      "text/markdown": [
       "1. 'SA'\n",
       "2. NA\n",
       "3. 'VIC'\n",
       "4. 'NZ'\n",
       "5. 'QLD'\n",
       "6. 'WA'\n",
       "7. 'ACT'\n",
       "\n",
       "\n"
      ],
      "text/plain": [
       "[1] \"SA\"  NA    \"VIC\" \"NZ\"  \"QLD\" \"WA\"  \"ACT\""
      ]
     },
     "metadata": {},
     "output_type": "display_data"
    }
   ],
   "source": [
    "# library(tidyr)\n",
    "# separate(data, crash_id, c(\"st\", \"time\"), \"(?<=[a-z]) ?(?=[0-9])\")\n",
    "\n",
    "unique(data$state)"
   ]
  },
  {
   "cell_type": "code",
   "execution_count": 80,
   "id": "855374de",
   "metadata": {},
   "outputs": [
    {
     "name": "stderr",
     "output_type": "stream",
     "text": [
      "Warning message in cbind(parts$left, ellip_h, parts$right, deparse.level = 0L):\n",
      "\"number of rows of result is not a multiple of vector length (arg 2)\"\n",
      "Warning message in cbind(parts$left, ellip_h, parts$right, deparse.level = 0L):\n",
      "\"number of rows of result is not a multiple of vector length (arg 2)\"\n",
      "Warning message in cbind(parts$left, ellip_h, parts$right, deparse.level = 0L):\n",
      "\"number of rows of result is not a multiple of vector length (arg 2)\"\n",
      "Warning message in cbind(parts$left, ellip_h, parts$right, deparse.level = 0L):\n",
      "\"number of rows of result is not a multiple of vector length (arg 2)\"\n"
     ]
    },
    {
     "data": {
      "text/html": [
       "<table class=\"dataframe\">\n",
       "<caption>A data.frame: 0 × 53</caption>\n",
       "<thead>\n",
       "\t<tr><th scope=col>X</th><th scope=col>vehicles_id</th><th scope=col>lat_long</th><th scope=col>description_id</th><th scope=col>date_time_id</th><th scope=col>year</th><th scope=col>month</th><th scope=col>day_of_week</th><th scope=col>day_of_month</th><th scope=col>hour</th><th scope=col>...</th><th scope=col>truck_large</th><th scope=col>bus</th><th scope=col>taxi</th><th scope=col>bicycle</th><th scope=col>scooter</th><th scope=col>pedestrian</th><th scope=col>inanimate</th><th scope=col>train</th><th scope=col>tram</th><th scope=col>vehicle_other</th></tr>\n",
       "\t<tr><th scope=col>&lt;int&gt;</th><th scope=col>&lt;chr&gt;</th><th scope=col>&lt;chr&gt;</th><th scope=col>&lt;int&gt;</th><th scope=col>&lt;chr&gt;</th><th scope=col>&lt;int&gt;</th><th scope=col>&lt;dbl&gt;</th><th scope=col>&lt;dbl&gt;</th><th scope=col>&lt;dbl&gt;</th><th scope=col>&lt;dbl&gt;</th><th scope=col>...</th><th scope=col>&lt;dbl&gt;</th><th scope=col>&lt;dbl&gt;</th><th scope=col>&lt;dbl&gt;</th><th scope=col>&lt;dbl&gt;</th><th scope=col>&lt;dbl&gt;</th><th scope=col>&lt;dbl&gt;</th><th scope=col>&lt;dbl&gt;</th><th scope=col>&lt;dbl&gt;</th><th scope=col>&lt;dbl&gt;</th><th scope=col>&lt;dbl&gt;</th></tr>\n",
       "</thead>\n",
       "<tbody>\n",
       "</tbody>\n",
       "</table>\n"
      ],
      "text/latex": [
       "A data.frame: 0 × 53\n",
       "\\begin{tabular}{lllllllllllllllllllll}\n",
       " X & vehicles\\_id & lat\\_long & description\\_id & date\\_time\\_id & year & month & day\\_of\\_week & day\\_of\\_month & hour & ... & truck\\_large & bus & taxi & bicycle & scooter & pedestrian & inanimate & train & tram & vehicle\\_other\\\\\n",
       " <int> & <chr> & <chr> & <int> & <chr> & <int> & <dbl> & <dbl> & <dbl> & <dbl> & ... & <dbl> & <dbl> & <dbl> & <dbl> & <dbl> & <dbl> & <dbl> & <dbl> & <dbl> & <dbl>\\\\\n",
       "\\hline\n",
       "\\end{tabular}\n"
      ],
      "text/markdown": [
       "\n",
       "A data.frame: 0 × 53\n",
       "\n",
       "| X &lt;int&gt; | vehicles_id &lt;chr&gt; | lat_long &lt;chr&gt; | description_id &lt;int&gt; | date_time_id &lt;chr&gt; | year &lt;int&gt; | month &lt;dbl&gt; | day_of_week &lt;dbl&gt; | day_of_month &lt;dbl&gt; | hour &lt;dbl&gt; | ... ... | truck_large &lt;dbl&gt; | bus &lt;dbl&gt; | taxi &lt;dbl&gt; | bicycle &lt;dbl&gt; | scooter &lt;dbl&gt; | pedestrian &lt;dbl&gt; | inanimate &lt;dbl&gt; | train &lt;dbl&gt; | tram &lt;dbl&gt; | vehicle_other &lt;dbl&gt; |\n",
       "|---|---|---|---|---|---|---|---|---|---|---|---|---|---|---|---|---|---|---|---|---|\n",
       "\n"
      ],
      "text/plain": [
       "     X vehicles_id lat_long description_id date_time_id year month day_of_week\n",
       "     day_of_month hour ... truck_large bus taxi bicycle scooter pedestrian\n",
       "     inanimate train tram vehicle_other"
      ]
     },
     "metadata": {},
     "output_type": "display_data"
    }
   ],
   "source": [
    "na.omit(act,axis=0)"
   ]
  },
  {
   "cell_type": "code",
   "execution_count": null,
   "id": "e648063c",
   "metadata": {},
   "outputs": [],
   "source": [
    "crash[crash$vehicles_id=='2c',]"
   ]
  },
  {
   "cell_type": "code",
   "execution_count": 6,
   "id": "cd55c414",
   "metadata": {},
   "outputs": [
    {
     "data": {
      "text/html": [
       "<table class=\"dataframe\">\n",
       "<caption>A data.frame: 3630 × 22</caption>\n",
       "<thead>\n",
       "\t<tr><th></th><th scope=col>X</th><th scope=col>description_id</th><th scope=col>crash_id</th><th scope=col>lat_long</th><th scope=col>date_time_id</th><th scope=col>vehicles_id</th><th scope=col>casualties_id</th><th scope=col>severity</th><th scope=col>speed_limit</th><th scope=col>midblock</th><th scope=col>...</th><th scope=col>road_position_vertical</th><th scope=col>road_sealed</th><th scope=col>road_wet</th><th scope=col>weather</th><th scope=col>crash_type</th><th scope=col>lighting</th><th scope=col>traffic_controls</th><th scope=col>drugs_alcohol</th><th scope=col>DCA_code</th><th scope=col>comment</th></tr>\n",
       "\t<tr><th></th><th scope=col>&lt;int&gt;</th><th scope=col>&lt;int&gt;</th><th scope=col>&lt;chr&gt;</th><th scope=col>&lt;chr&gt;</th><th scope=col>&lt;chr&gt;</th><th scope=col>&lt;chr&gt;</th><th scope=col>&lt;chr&gt;</th><th scope=col>&lt;chr&gt;</th><th scope=col>&lt;chr&gt;</th><th scope=col>&lt;chr&gt;</th><th scope=col>...</th><th scope=col>&lt;chr&gt;</th><th scope=col>&lt;chr&gt;</th><th scope=col>&lt;chr&gt;</th><th scope=col>&lt;chr&gt;</th><th scope=col>&lt;chr&gt;</th><th scope=col>&lt;chr&gt;</th><th scope=col>&lt;chr&gt;</th><th scope=col>&lt;chr&gt;</th><th scope=col>&lt;dbl&gt;</th><th scope=col>&lt;chr&gt;</th></tr>\n",
       "</thead>\n",
       "<tbody>\n",
       "\t<tr><th scope=row>240</th><td>100021</td><td>100021</td><td>SA2017-12150-15/08/2019</td><td>(-35.02119369669627, 138.74256041993976) </td><td>2017-12--5-19</td><td>1w1i</td><td>0c    </td><td>property_damage</td><td>50 </td><td>True </td><td>...</td><td>level</td><td>True </td><td>True </td><td>unknown</td><td>Hit Fixed Object          </td><td>daylight        </td><td>none          </td><td>Y</td><td>NA</td><td></td></tr>\n",
       "\t<tr><th scope=row>251</th><td>100022</td><td>100022</td><td>SA2017-12151-15/08/2019</td><td>(-34.85408989844591, 138.49308036224886) </td><td>2017-12--5-22</td><td>1c1p</td><td>1c1m  </td><td>minor_injury   </td><td>50 </td><td>True </td><td>...</td><td>level</td><td>True </td><td>False</td><td>fine   </td><td>Hit Pedestrian            </td><td>darkness_not_lit</td><td>none          </td><td>Y</td><td>NA</td><td></td></tr>\n",
       "\t<tr><th scope=row>328</th><td>100029</td><td>100029</td><td>SA2017-12158-15/08/2019</td><td>(-34.88950829555641, 138.6397021898861)  </td><td>2017-12--6-6 </td><td>1c1i</td><td>0c    </td><td>property_damage</td><td>60 </td><td>True </td><td>...</td><td>level</td><td>True </td><td>False</td><td>fine   </td><td>Hit Fixed Object          </td><td>daylight        </td><td>none          </td><td>Y</td><td>NA</td><td></td></tr>\n",
       "\t<tr><th scope=row>473</th><td>100042</td><td>100042</td><td>SA2017-12171-15/08/2019</td><td>(-35.003933142922946, 138.8249966421832) </td><td>2017-12--6-1 </td><td>1u2i</td><td>0c    </td><td>property_damage</td><td>80 </td><td>True </td><td>...</td><td>slope</td><td>True </td><td>True </td><td>fine   </td><td>Hit Fixed Object          </td><td>darkness_not_lit</td><td>none          </td><td>Y</td><td>NA</td><td></td></tr>\n",
       "\t<tr><th scope=row>528</th><td>100047</td><td>100047</td><td>SA2017-12176-15/08/2019</td><td>(-34.942828630202484, 138.55703993476507)</td><td>2017-12--6-19</td><td>1c1i</td><td>0c    </td><td>property_damage</td><td>60 </td><td>False</td><td>...</td><td>level</td><td>True </td><td>False</td><td>fine   </td><td>Hit Fixed Object          </td><td>daylight        </td><td>giveway_sign  </td><td>Y</td><td>NA</td><td></td></tr>\n",
       "\t<tr><th scope=row>539</th><td>100048</td><td>100048</td><td>SA2017-12177-15/08/2019</td><td>(-34.00152279096938, 138.8198244050492)  </td><td>2017-12--6-15</td><td>1c1i</td><td>1c1s  </td><td>serious_injury </td><td>50 </td><td>True </td><td>...</td><td>level</td><td>True </td><td>False</td><td>fine   </td><td>Hit Fixed Object          </td><td>daylight        </td><td>none          </td><td>Y</td><td>NA</td><td></td></tr>\n",
       "\t<tr><th scope=row>695</th><td>100062</td><td>100062</td><td>SA2017-12191-15/08/2019</td><td>(-35.307478580454045, 138.47328534009807)</td><td>2017-12--6-22</td><td>1u1w</td><td>3c2s1m</td><td>serious_injury </td><td>90 </td><td>False</td><td>...</td><td>level</td><td>True </td><td>False</td><td>fine   </td><td>Right Angle               </td><td>darkness_not_lit</td><td>stop_sign     </td><td>Y</td><td>NA</td><td></td></tr>\n",
       "\t<tr><th scope=row>950</th><td>100085</td><td>100085</td><td>SA2017-12214-15/08/2019</td><td>(-34.87439796432449, 138.63285187380419) </td><td>2017-12--7-3 </td><td>1c1i</td><td>0c    </td><td>property_damage</td><td>60 </td><td>False</td><td>...</td><td>level</td><td>True </td><td>False</td><td>fine   </td><td>Hit Fixed Object          </td><td>darkness_not_lit</td><td>traffic_lights</td><td>Y</td><td>NA</td><td></td></tr>\n",
       "\t<tr><th scope=row>1406</th><td>100126</td><td>100126</td><td>SA2017-12255-15/08/2019</td><td>(-34.72724362611111, 139.2757363149307)  </td><td>2017-12--1-17</td><td>1c  </td><td>1c1m  </td><td>minor_injury   </td><td>100</td><td>True </td><td>...</td><td>slope</td><td>True </td><td>False</td><td>fine   </td><td>Left Road - Out of Control</td><td>daylight        </td><td>none          </td><td>Y</td><td>NA</td><td></td></tr>\n",
       "\t<tr><th scope=row>2039</th><td>100183</td><td>100183</td><td>SA2017-12312-15/08/2019</td><td>(-34.86133743133193, 138.60816640290997) </td><td>2017-12--3-9 </td><td>2c  </td><td>0c    </td><td>property_damage</td><td>50 </td><td>False</td><td>...</td><td>slope</td><td>True </td><td>False</td><td>fine   </td><td>Right Angle               </td><td>daylight        </td><td>giveway_sign  </td><td>Y</td><td>NA</td><td></td></tr>\n",
       "\t<tr><th scope=row>2251</th><td>100202</td><td>100202</td><td>SA2017-12331-15/08/2019</td><td>(-34.8520561229714, 138.61102023025944)  </td><td>2017-12--3-18</td><td>1mc </td><td>1c1s  </td><td>serious_injury </td><td>40 </td><td>False</td><td>...</td><td>slope</td><td>True </td><td>False</td><td>fine   </td><td>Roll Over                 </td><td>daylight        </td><td>giveway_sign  </td><td>Y</td><td>NA</td><td></td></tr>\n",
       "\t<tr><th scope=row>3183</th><td>100286</td><td>100286</td><td>SA2017-12415-15/08/2019</td><td>(-34.93501317843972, 138.63163468700935) </td><td>2017-12--5-13</td><td>1c1i</td><td>0c    </td><td>property_damage</td><td>50 </td><td>False</td><td>...</td><td>level</td><td>True </td><td>False</td><td>fine   </td><td>Hit Fixed Object          </td><td>daylight        </td><td>giveway_sign  </td><td>Y</td><td>NA</td><td></td></tr>\n",
       "\t<tr><th scope=row>3362</th><td>100302</td><td>100302</td><td>SA2017-12431-15/08/2019</td><td>(-36.97262502762888, 140.73986061092063) </td><td>2017-12--6-0 </td><td>1c1i</td><td>0c    </td><td>property_damage</td><td>60 </td><td>False</td><td>...</td><td>slope</td><td>True </td><td>False</td><td>fine   </td><td>Hit Fixed Object          </td><td>darkness_not_lit</td><td>none          </td><td>Y</td><td>NA</td><td></td></tr>\n",
       "\t<tr><th scope=row>3428</th><td>100308</td><td>100308</td><td>SA2017-12437-15/08/2019</td><td>(-30.557642509714928, 138.43135055742223)</td><td>2017-12--6-7 </td><td>1w  </td><td>1c1m  </td><td>minor_injury   </td><td>100</td><td>False</td><td>...</td><td>crest</td><td>False</td><td>False</td><td>fine   </td><td>Roll Over                 </td><td>daylight        </td><td>none          </td><td>Y</td><td>NA</td><td></td></tr>\n",
       "\t<tr><th scope=row>3684</th><td>100331</td><td>100331</td><td>SA2017-12460-15/08/2019</td><td>(-34.904143182124045, 138.6582304975103) </td><td>2017-12--6-23</td><td>1c1i</td><td>1c1m  </td><td>minor_injury   </td><td>50 </td><td>True </td><td>...</td><td>level</td><td>True </td><td>False</td><td>fine   </td><td>Hit Fixed Object          </td><td>darkness_not_lit</td><td>none          </td><td>Y</td><td>NA</td><td></td></tr>\n",
       "\t<tr><th scope=row>4017</th><td>100361</td><td>100361</td><td>SA2017-12490-15/08/2019</td><td>(-33.2000089675029, 138.30269650594155)  </td><td>2017-12--7-2 </td><td>1c1i</td><td>1c1m  </td><td>minor_injury   </td><td>110</td><td>True </td><td>...</td><td>level</td><td>True </td><td>False</td><td>fine   </td><td>Hit Fixed Object          </td><td>darkness_not_lit</td><td>none          </td><td>Y</td><td>NA</td><td></td></tr>\n",
       "\t<tr><th scope=row>4094</th><td>100368</td><td>100368</td><td>SA2017-12497-15/08/2019</td><td>(-34.92484967969716, 138.58953315655273) </td><td>2017-12--1-1 </td><td>1c1i</td><td>1c1m  </td><td>minor_injury   </td><td>50 </td><td>False</td><td>...</td><td>level</td><td>True </td><td>False</td><td>fine   </td><td>Hit Fixed Object          </td><td>darkness_not_lit</td><td>traffic_lights</td><td>Y</td><td>NA</td><td></td></tr>\n",
       "\t<tr><th scope=row>5039</th><td>100453</td><td>100453</td><td>SA2017-12582-15/08/2019</td><td>(-34.68100287383124, 138.69020968596746) </td><td>2017-12--2-20</td><td>1c1i</td><td>1c1m  </td><td>minor_injury   </td><td>50 </td><td>True </td><td>...</td><td>level</td><td>True </td><td>False</td><td>fine   </td><td>Hit Fixed Object          </td><td>darkness_not_lit</td><td>none          </td><td>Y</td><td>NA</td><td></td></tr>\n",
       "\t<tr><th scope=row>5294</th><td>100476</td><td>100476</td><td>SA2017-12605-15/08/2019</td><td>(-35.2495924743844, 139.46095256829085)  </td><td>2017-12--2-21</td><td>1c1i</td><td>1c1m  </td><td>minor_injury   </td><td>50 </td><td>False</td><td>...</td><td>level</td><td>True </td><td>False</td><td>fine   </td><td>Hit Fixed Object          </td><td>darkness_not_lit</td><td>none          </td><td>Y</td><td>NA</td><td></td></tr>\n",
       "\t<tr><th scope=row>6116</th><td> 10055</td><td> 10055</td><td>SA2012-10056-21/08/2019</td><td>(-35.0270976688116, 138.5887436885681)   </td><td>2012-6--3-10 </td><td>2c  </td><td>0c    </td><td>property_damage</td><td>60 </td><td>True </td><td>...</td><td>slope</td><td>True </td><td>False</td><td>fine   </td><td>Hit Parked Vehicle        </td><td>daylight        </td><td>none          </td><td>Y</td><td>NA</td><td></td></tr>\n",
       "\t<tr><th scope=row>6594</th><td>100593</td><td>100593</td><td>SA2017-12722-15/08/2019</td><td>(-31.83260972356715, 132.7365444090528)  </td><td>2017-12--6-11</td><td>1mc </td><td>1c1s  </td><td>serious_injury </td><td>100</td><td>True </td><td>...</td><td>level</td><td>False</td><td>False</td><td>fine   </td><td>Left Road - Out of Control</td><td>daylight        </td><td>none          </td><td>Y</td><td>NA</td><td></td></tr>\n",
       "\t<tr><th scope=row>6795</th><td>100611</td><td>100611</td><td>SA2017-12740-15/08/2019</td><td>(-34.865513080964796, 138.51193452292225)</td><td>2017-12--6-21</td><td>1c1i</td><td>1c1m  </td><td>minor_injury   </td><td>60 </td><td>False</td><td>...</td><td>level</td><td>True </td><td>False</td><td>fine   </td><td>Hit Fixed Object          </td><td>darkness_not_lit</td><td>traffic_lights</td><td>Y</td><td>NA</td><td></td></tr>\n",
       "\t<tr><th scope=row>6828</th><td>100614</td><td>100614</td><td>SA2017-12743-15/08/2019</td><td>(-35.00305407068851, 138.5655090049918)  </td><td>2017-12--7-3 </td><td>1c1i</td><td>0c    </td><td>property_damage</td><td>50 </td><td>True </td><td>...</td><td>level</td><td>True </td><td>False</td><td>fine   </td><td>Hit Fixed Object          </td><td>darkness_not_lit</td><td>none          </td><td>Y</td><td>NA</td><td></td></tr>\n",
       "\t<tr><th scope=row>6894</th><td> 10062</td><td> 10062</td><td>SA2012-10063-21/08/2019</td><td>(-34.92268745496161, 138.60555901971154) </td><td>2012-6--5-1  </td><td>1x1p</td><td>1c1m  </td><td>minor_injury   </td><td>50 </td><td>False</td><td>...</td><td>level</td><td>True </td><td>False</td><td>fine   </td><td>Hit Pedestrian            </td><td>darkness_not_lit</td><td>traffic_lights</td><td>Y</td><td>NA</td><td></td></tr>\n",
       "\t<tr><th scope=row>7105</th><td>100639</td><td>100639</td><td>SA2017-12768-15/08/2019</td><td>(-34.92145750396026, 138.69831792920414) </td><td>2017-12--7-22</td><td>1u1i</td><td>1c1s  </td><td>serious_injury </td><td>60 </td><td>True </td><td>...</td><td>slope</td><td>True </td><td>False</td><td>fine   </td><td>Hit Fixed Object          </td><td>darkness_not_lit</td><td>none          </td><td>Y</td><td>NA</td><td></td></tr>\n",
       "\t<tr><th scope=row>7117</th><td>100640</td><td>100640</td><td>SA2017-12769-15/08/2019</td><td>(-35.02196468271379, 138.54639498921458) </td><td>2017-12--7-23</td><td>1c1o</td><td>0c    </td><td>property_damage</td><td>50 </td><td>True </td><td>...</td><td>level</td><td>True </td><td>True </td><td>fine   </td><td>Hit Parked Vehicle        </td><td>darkness_not_lit</td><td>none          </td><td>Y</td><td>NA</td><td></td></tr>\n",
       "\t<tr><th scope=row>7150</th><td>100643</td><td>100643</td><td>SA2017-12772-15/08/2019</td><td>(-34.75070820244322, 138.63588718108596) </td><td>2017-12--7-11</td><td>1c1i</td><td>0c    </td><td>property_damage</td><td>50 </td><td>True </td><td>...</td><td>level</td><td>True </td><td>False</td><td>fine   </td><td>Hit Fixed Object          </td><td>daylight        </td><td>none          </td><td>Y</td><td>NA</td><td></td></tr>\n",
       "\t<tr><th scope=row>7549</th><td>100679</td><td>100679</td><td>SA2017-12808-15/08/2019</td><td>(-34.9743602124281, 138.53866139203876)  </td><td>2017-12--1-21</td><td>1c1p</td><td>1c1f  </td><td>fatality       </td><td>60 </td><td>True </td><td>...</td><td>level</td><td>True </td><td>True </td><td>rain   </td><td>Hit Pedestrian            </td><td>darkness_not_lit</td><td>none          </td><td>Y</td><td>NA</td><td></td></tr>\n",
       "\t<tr><th scope=row>7561</th><td>100680</td><td>100680</td><td>SA2017-12809-15/08/2019</td><td>(-34.91708924454642, 138.51336255171742) </td><td>2017-12--2-1 </td><td>1c1i</td><td>1c1m  </td><td>minor_injury   </td><td>60 </td><td>True </td><td>...</td><td>level</td><td>True </td><td>True </td><td>rain   </td><td>Hit Fixed Object          </td><td>darkness_not_lit</td><td>none          </td><td>Y</td><td>NA</td><td></td></tr>\n",
       "\t<tr><th scope=row>8549</th><td>100769</td><td>100769</td><td>SA2017-12898-15/08/2019</td><td>(-34.97954907672249, 138.53802375796135) </td><td>2017-12--3-17</td><td>2c  </td><td>0c    </td><td>property_damage</td><td>60 </td><td>True </td><td>...</td><td>level</td><td>True </td><td>False</td><td>fine   </td><td>Side Swipe                </td><td>daylight        </td><td>none          </td><td>Y</td><td>NA</td><td></td></tr>\n",
       "\t<tr><th scope=row>...</th><td>...</td><td>...</td><td>...</td><td>...</td><td>...</td><td>...</td><td>...</td><td>...</td><td>...</td><td>...</td><td></td><td>...</td><td>...</td><td>...</td><td>...</td><td>...</td><td>...</td><td>...</td><td>...</td><td>...</td><td>...</td></tr>\n",
       "\t<tr><th scope=row>1508301</th><td>98996</td><td>98996</td><td>SA2017-11125-15/08/2019</td><td>(-34.40916431583048, 139.12495922731603) </td><td>2017-10--3-17</td><td>1w1i  </td><td>1c1m  </td><td>minor_injury   </td><td>50 </td><td>True </td><td>...</td><td>level</td><td>True </td><td>False</td><td>fine   </td><td>Hit Fixed Object  </td><td>daylight        </td><td>none            </td><td>Y</td><td>NA</td><td></td></tr>\n",
       "\t<tr><th scope=row>1508359</th><td>99001</td><td>99001</td><td>SA2017-11130-15/08/2019</td><td>(-34.938824089473655, 139.26029883851152)</td><td>2017-11--5-22</td><td>1u1i  </td><td>1c1s  </td><td>serious_injury </td><td>100</td><td>True </td><td>...</td><td>slope</td><td>True </td><td>False</td><td>fine   </td><td>Roll Over         </td><td>darkness_not_lit</td><td>none            </td><td>Y</td><td>NA</td><td></td></tr>\n",
       "\t<tr><th scope=row>1508436</th><td>99008</td><td>99008</td><td>SA2017-11137-15/08/2019</td><td>(-33.934121120388156, 136.54388895391503)</td><td>2017-11--6-0 </td><td>1u    </td><td>1c1s  </td><td>serious_injury </td><td>80 </td><td>True </td><td>...</td><td>level</td><td>False</td><td>False</td><td>fine   </td><td>Roll Over         </td><td>darkness_not_lit</td><td>none            </td><td>Y</td><td>NA</td><td></td></tr>\n",
       "\t<tr><th scope=row>1508658</th><td>99028</td><td>99028</td><td>SA2017-11157-15/08/2019</td><td>(-35.50046455974397, 138.58162002148012) </td><td>2017-11--6-23</td><td>1c1i  </td><td>0c    </td><td>property_damage</td><td>80 </td><td>False</td><td>...</td><td>slope</td><td>True </td><td>False</td><td>fine   </td><td>Hit Fixed Object  </td><td>darkness_not_lit</td><td>none            </td><td>Y</td><td>NA</td><td></td></tr>\n",
       "\t<tr><th scope=row>1509947</th><td>99144</td><td>99144</td><td>SA2017-11273-15/08/2019</td><td>(-32.448560651811604, 134.17831483544998)</td><td>2017-11--3-1 </td><td>1c    </td><td>1c1f  </td><td>fatality       </td><td>110</td><td>True </td><td>...</td><td>level</td><td>True </td><td>False</td><td>fine   </td><td>Roll Over         </td><td>darkness_not_lit</td><td>none            </td><td>Y</td><td>NA</td><td></td></tr>\n",
       "\t<tr><th scope=row>1510169</th><td>99164</td><td>99164</td><td>SA2017-11293-15/08/2019</td><td>(-34.42190562436713, 138.33421140808645) </td><td>2017-11--3-23</td><td>1u1T  </td><td>1c1f  </td><td>fatality       </td><td>110</td><td>False</td><td>...</td><td>level</td><td>True </td><td>False</td><td>fine   </td><td>Right Angle       </td><td>darkness_not_lit</td><td>giveway_sign    </td><td>Y</td><td>NA</td><td></td></tr>\n",
       "\t<tr><th scope=row>1510380</th><td>99183</td><td>99183</td><td>SA2017-11312-15/08/2019</td><td>(-32.721461671815845, 137.93973467195144)</td><td>2017-11--3-19</td><td>1c1T  </td><td>1c1m  </td><td>minor_injury   </td><td>110</td><td>True </td><td>...</td><td>level</td><td>True </td><td>False</td><td>fine   </td><td>Side Swipe        </td><td>daylight        </td><td>none            </td><td>Y</td><td>NA</td><td></td></tr>\n",
       "\t<tr><th scope=row>1510603</th><td>99203</td><td>99203</td><td>SA2017-11332-15/08/2019</td><td>(-34.640170220659904, 138.69887737519426)</td><td>2017-11--4-16</td><td>1w1i  </td><td>4c4m  </td><td>minor_injury   </td><td>100</td><td>True </td><td>...</td><td>level</td><td>True </td><td>False</td><td>fine   </td><td>Hit Fixed Object  </td><td>daylight        </td><td>none            </td><td>Y</td><td>NA</td><td></td></tr>\n",
       "\t<tr><th scope=row>1511280</th><td>99264</td><td>99264</td><td>SA2017-11393-15/08/2019</td><td>(-34.889218846634066, 138.56591840452984)</td><td>2017-11--4-17</td><td>1c1o  </td><td>0c    </td><td>property_damage</td><td>50 </td><td>True </td><td>...</td><td>level</td><td>True </td><td>False</td><td>fine   </td><td>Hit Parked Vehicle</td><td>daylight        </td><td>none            </td><td>Y</td><td>NA</td><td></td></tr>\n",
       "\t<tr><th scope=row>1511335</th><td>99269</td><td>99269</td><td>SA2017-11398-15/08/2019</td><td>(-34.832384337206896, 138.61214152337556)</td><td>2017-11--6-20</td><td>1w1o  </td><td>0c    </td><td>property_damage</td><td>50 </td><td>True </td><td>...</td><td>level</td><td>True </td><td>False</td><td>fine   </td><td>Hit Parked Vehicle</td><td>darkness_not_lit</td><td>none            </td><td>Y</td><td>NA</td><td></td></tr>\n",
       "\t<tr><th scope=row>1511391</th><td>99274</td><td>99274</td><td>SA2017-11403-15/08/2019</td><td>(-34.923498742430546, 138.58944344726518)</td><td>2017-11--7-4 </td><td>3c    </td><td>1c1m  </td><td>minor_injury   </td><td>50 </td><td>False</td><td>...</td><td>level</td><td>True </td><td>False</td><td>fine   </td><td>Right Angle       </td><td>darkness_not_lit</td><td>stop_sign       </td><td>Y</td><td>NA</td><td></td></tr>\n",
       "\t<tr><th scope=row>1511703</th><td>99302</td><td>99302</td><td>SA2017-11431-15/08/2019</td><td>(-34.36430541177397, 137.92784329153153) </td><td>2017-11--7-23</td><td>1c1i  </td><td>1c1m  </td><td>minor_injury   </td><td>100</td><td>True </td><td>...</td><td>level</td><td>True </td><td>False</td><td>fine   </td><td>Hit Fixed Object  </td><td>darkness_not_lit</td><td>none            </td><td>Y</td><td>NA</td><td></td></tr>\n",
       "\t<tr><th scope=row>1513358</th><td>99451</td><td>99451</td><td>SA2017-11580-15/08/2019</td><td>(-34.69086708583676, 135.81816941151945) </td><td>2017-11--4-22</td><td>1c2i  </td><td>0c    </td><td>property_damage</td><td>100</td><td>True </td><td>...</td><td>slope</td><td>False</td><td>False</td><td>fine   </td><td>Hit Fixed Object  </td><td>darkness_not_lit</td><td>none            </td><td>Y</td><td>NA</td><td></td></tr>\n",
       "\t<tr><th scope=row>1513380</th><td>99453</td><td>99453</td><td>SA2017-11582-15/08/2019</td><td>(-36.617705359549696, 140.76607604645955)</td><td>2017-11--5-0 </td><td>1u1i  </td><td>1c1m  </td><td>minor_injury   </td><td>100</td><td>True </td><td>...</td><td>level</td><td>False</td><td>True </td><td>rain   </td><td>Hit Fixed Object  </td><td>darkness_not_lit</td><td>none            </td><td>Y</td><td>NA</td><td></td></tr>\n",
       "\t<tr><th scope=row>1513857</th><td>99496</td><td>99496</td><td>SA2017-11625-15/08/2019</td><td>(-34.43901461193148, 138.93627689356506) </td><td>2017-11--5-23</td><td>1u1i  </td><td>1c1m  </td><td>minor_injury   </td><td>100</td><td>True </td><td>...</td><td>level</td><td>True </td><td>True </td><td>unknown</td><td>Hit Fixed Object  </td><td>darkness_not_lit</td><td>none            </td><td>Y</td><td>NA</td><td></td></tr>\n",
       "\t<tr><th scope=row>1513868</th><td>99497</td><td>99497</td><td>SA2017-11626-15/08/2019</td><td>(-34.59673196025781, 138.77567005151127) </td><td>2017-11--6-2 </td><td>1c1i  </td><td>0c    </td><td>property_damage</td><td>80 </td><td>False</td><td>...</td><td>level</td><td>True </td><td>False</td><td>fine   </td><td>Hit Fixed Object  </td><td>darkness_not_lit</td><td>railway_crossing</td><td>Y</td><td>NA</td><td></td></tr>\n",
       "\t<tr><th scope=row>1513879</th><td>99498</td><td>99498</td><td>SA2017-11627-15/08/2019</td><td>(-34.814592800922256, 138.8103997151652) </td><td>2017-11--6-3 </td><td>1c1i  </td><td>1c1m  </td><td>minor_injury   </td><td>80 </td><td>False</td><td>...</td><td>slope</td><td>True </td><td>False</td><td>fine   </td><td>Hit Fixed Object  </td><td>darkness_not_lit</td><td>none            </td><td>Y</td><td>NA</td><td></td></tr>\n",
       "\t<tr><th scope=row>1514158</th><td>99523</td><td>99523</td><td>SA2017-11652-15/08/2019</td><td>(-34.97639665136448, 138.72913685054584) </td><td>2017-11--5-19</td><td>1u1i  </td><td>1c1m  </td><td>minor_injury   </td><td>60 </td><td>True </td><td>...</td><td>slope</td><td>True </td><td>True </td><td>unknown</td><td>Hit Fixed Object  </td><td>daylight        </td><td>none            </td><td>Y</td><td>NA</td><td></td></tr>\n",
       "\t<tr><th scope=row>1514535</th><td>99557</td><td>99557</td><td>SA2017-11686-15/08/2019</td><td>(-34.19465132873651, 140.75099460173578) </td><td>2017-11--7-0 </td><td>1mc1o </td><td>1c1m  </td><td>minor_injury   </td><td>80 </td><td>True </td><td>...</td><td>level</td><td>False</td><td>False</td><td>fine   </td><td>Roll Over         </td><td>darkness_not_lit</td><td>none            </td><td>Y</td><td>NA</td><td></td></tr>\n",
       "\t<tr><th scope=row>1515036</th><td>99602</td><td>99602</td><td>SA2017-11731-15/08/2019</td><td>(-27.238802240441874, 134.8247610977176) </td><td>2017-11--7-16</td><td>1mc   </td><td>1c1f  </td><td>fatality       </td><td>100</td><td>True </td><td>...</td><td>level</td><td>False</td><td>False</td><td>fine   </td><td>Roll Over         </td><td>daylight        </td><td>none            </td><td>Y</td><td>NA</td><td></td></tr>\n",
       "\t<tr><th scope=row>1515857</th><td>99676</td><td>99676</td><td>SA2017-11805-15/08/2019</td><td>(-34.95381721406043, 138.5703915657118)  </td><td>2017-11--3-22</td><td>1x1p  </td><td>1c1f  </td><td>fatality       </td><td>60 </td><td>True </td><td>...</td><td>level</td><td>True </td><td>False</td><td>fine   </td><td>Hit Pedestrian    </td><td>darkness_not_lit</td><td>none            </td><td>Y</td><td>NA</td><td></td></tr>\n",
       "\t<tr><th scope=row>1516090</th><td>99697</td><td>99697</td><td>SA2017-11826-15/08/2019</td><td>(-34.910583348606735, 138.4951166704266) </td><td>2017-11--4-8 </td><td>1c1i1o</td><td>0c    </td><td>property_damage</td><td>50 </td><td>True </td><td>...</td><td>level</td><td>True </td><td>True </td><td>fine   </td><td>Hit Parked Vehicle</td><td>daylight        </td><td>none            </td><td>Y</td><td>NA</td><td></td></tr>\n",
       "\t<tr><th scope=row>1517269</th><td>99803</td><td>99803</td><td>SA2017-11932-15/08/2019</td><td>(-34.96294828083722, 138.54929084326633) </td><td>2017-11--7-0 </td><td>2c    </td><td>0c    </td><td>property_damage</td><td>50 </td><td>True </td><td>...</td><td>level</td><td>True </td><td>False</td><td>fine   </td><td>Hit Parked Vehicle</td><td>darkness_not_lit</td><td>none            </td><td>Y</td><td>NA</td><td></td></tr>\n",
       "\t<tr><th scope=row>1517646</th><td>99837</td><td>99837</td><td>SA2017-11966-15/08/2019</td><td>(-34.85410972089644, 138.69440174333604) </td><td>2017-9--4-2  </td><td>1c1i  </td><td>0c    </td><td>property_damage</td><td>60 </td><td>True </td><td>...</td><td>level</td><td>True </td><td>False</td><td>fine   </td><td>Hit Fixed Object  </td><td>darkness_not_lit</td><td>none            </td><td>Y</td><td>NA</td><td></td></tr>\n",
       "\t<tr><th scope=row>1517979</th><td>99867</td><td>99867</td><td>SA2017-11996-15/08/2019</td><td>(-34.99593934143141, 138.53983026783806) </td><td>2017-11--1-18</td><td>1c2w  </td><td>2c2m  </td><td>minor_injury   </td><td>60 </td><td>True </td><td>...</td><td>level</td><td>True </td><td>False</td><td>fine   </td><td>Rear End          </td><td>daylight        </td><td>none            </td><td>Y</td><td>NA</td><td></td></tr>\n",
       "\t<tr><th scope=row>1518268</th><td>99893</td><td>99893</td><td>SA2017-12022-15/08/2019</td><td>(-35.16195131709894, 138.69362928895512) </td><td>2017-11--2-16</td><td>2c1i  </td><td>3c2s1m</td><td>serious_injury </td><td>80 </td><td>True </td><td>...</td><td>slope</td><td>True </td><td>False</td><td>fine   </td><td>Hit Fixed Object  </td><td>daylight        </td><td>none            </td><td>Y</td><td>NA</td><td></td></tr>\n",
       "\t<tr><th scope=row>1518380</th><td>99903</td><td>99903</td><td>SA2017-12032-15/08/2019</td><td>(-34.44590388670488, 135.97425011956452) </td><td>2017-11--3-6 </td><td>1c1i  </td><td>1c1m  </td><td>minor_injury   </td><td>110</td><td>True </td><td>...</td><td>level</td><td>True </td><td>False</td><td>fine   </td><td>Hit Fixed Object  </td><td>daylight        </td><td>none            </td><td>Y</td><td>NA</td><td></td></tr>\n",
       "\t<tr><th scope=row>1518679</th><td> 9993</td><td> 9993</td><td>SA2012-9994-21/08/2019 </td><td>(nan, nan)                               </td><td>2012-6--3-22 </td><td>1u1i  </td><td>0c    </td><td>property_damage</td><td>110</td><td>True </td><td>...</td><td>crest</td><td>True </td><td>False</td><td>fine   </td><td>Hit Fixed Object  </td><td>darkness_not_lit</td><td>none            </td><td>Y</td><td>NA</td><td></td></tr>\n",
       "\t<tr><th scope=row>1518857</th><td>99946</td><td>99946</td><td>SA2017-12075-15/08/2019</td><td>(-35.13075187013011, 138.4793272057675)  </td><td>2017-11--3-21</td><td>1w1o  </td><td>1c1s  </td><td>serious_injury </td><td>60 </td><td>True </td><td>...</td><td>level</td><td>True </td><td>False</td><td>fine   </td><td>Hit Parked Vehicle</td><td>darkness_not_lit</td><td>none            </td><td>Y</td><td>NA</td><td></td></tr>\n",
       "\t<tr><th scope=row>1519268</th><td>99983</td><td>99983</td><td>SA2017-12112-15/08/2019</td><td>(-34.924415673571325, 138.5997156990866) </td><td>2017-11--4-22</td><td>1c2p  </td><td>0c    </td><td>property_damage</td><td>50 </td><td>False</td><td>...</td><td>level</td><td>True </td><td>True </td><td>rain   </td><td>Hit Pedestrian    </td><td>darkness_not_lit</td><td>traffic_lights  </td><td>Y</td><td>NA</td><td></td></tr>\n",
       "</tbody>\n",
       "</table>\n"
      ],
      "text/latex": [
       "A data.frame: 3630 × 22\n",
       "\\begin{tabular}{r|lllllllllllllllllllll}\n",
       "  & X & description\\_id & crash\\_id & lat\\_long & date\\_time\\_id & vehicles\\_id & casualties\\_id & severity & speed\\_limit & midblock & ... & road\\_position\\_vertical & road\\_sealed & road\\_wet & weather & crash\\_type & lighting & traffic\\_controls & drugs\\_alcohol & DCA\\_code & comment\\\\\n",
       "  & <int> & <int> & <chr> & <chr> & <chr> & <chr> & <chr> & <chr> & <chr> & <chr> & ... & <chr> & <chr> & <chr> & <chr> & <chr> & <chr> & <chr> & <chr> & <dbl> & <chr>\\\\\n",
       "\\hline\n",
       "\t240 & 100021 & 100021 & SA2017-12150-15/08/2019 & (-35.02119369669627, 138.74256041993976)  & 2017-12--5-19 & 1w1i & 0c     & property\\_damage & 50  & True  & ... & level & True  & True  & unknown & Hit Fixed Object           & daylight         & none           & Y & NA & \\\\\n",
       "\t251 & 100022 & 100022 & SA2017-12151-15/08/2019 & (-34.85408989844591, 138.49308036224886)  & 2017-12--5-22 & 1c1p & 1c1m   & minor\\_injury    & 50  & True  & ... & level & True  & False & fine    & Hit Pedestrian             & darkness\\_not\\_lit & none           & Y & NA & \\\\\n",
       "\t328 & 100029 & 100029 & SA2017-12158-15/08/2019 & (-34.88950829555641, 138.6397021898861)   & 2017-12--6-6  & 1c1i & 0c     & property\\_damage & 60  & True  & ... & level & True  & False & fine    & Hit Fixed Object           & daylight         & none           & Y & NA & \\\\\n",
       "\t473 & 100042 & 100042 & SA2017-12171-15/08/2019 & (-35.003933142922946, 138.8249966421832)  & 2017-12--6-1  & 1u2i & 0c     & property\\_damage & 80  & True  & ... & slope & True  & True  & fine    & Hit Fixed Object           & darkness\\_not\\_lit & none           & Y & NA & \\\\\n",
       "\t528 & 100047 & 100047 & SA2017-12176-15/08/2019 & (-34.942828630202484, 138.55703993476507) & 2017-12--6-19 & 1c1i & 0c     & property\\_damage & 60  & False & ... & level & True  & False & fine    & Hit Fixed Object           & daylight         & giveway\\_sign   & Y & NA & \\\\\n",
       "\t539 & 100048 & 100048 & SA2017-12177-15/08/2019 & (-34.00152279096938, 138.8198244050492)   & 2017-12--6-15 & 1c1i & 1c1s   & serious\\_injury  & 50  & True  & ... & level & True  & False & fine    & Hit Fixed Object           & daylight         & none           & Y & NA & \\\\\n",
       "\t695 & 100062 & 100062 & SA2017-12191-15/08/2019 & (-35.307478580454045, 138.47328534009807) & 2017-12--6-22 & 1u1w & 3c2s1m & serious\\_injury  & 90  & False & ... & level & True  & False & fine    & Right Angle                & darkness\\_not\\_lit & stop\\_sign      & Y & NA & \\\\\n",
       "\t950 & 100085 & 100085 & SA2017-12214-15/08/2019 & (-34.87439796432449, 138.63285187380419)  & 2017-12--7-3  & 1c1i & 0c     & property\\_damage & 60  & False & ... & level & True  & False & fine    & Hit Fixed Object           & darkness\\_not\\_lit & traffic\\_lights & Y & NA & \\\\\n",
       "\t1406 & 100126 & 100126 & SA2017-12255-15/08/2019 & (-34.72724362611111, 139.2757363149307)   & 2017-12--1-17 & 1c   & 1c1m   & minor\\_injury    & 100 & True  & ... & slope & True  & False & fine    & Left Road - Out of Control & daylight         & none           & Y & NA & \\\\\n",
       "\t2039 & 100183 & 100183 & SA2017-12312-15/08/2019 & (-34.86133743133193, 138.60816640290997)  & 2017-12--3-9  & 2c   & 0c     & property\\_damage & 50  & False & ... & slope & True  & False & fine    & Right Angle                & daylight         & giveway\\_sign   & Y & NA & \\\\\n",
       "\t2251 & 100202 & 100202 & SA2017-12331-15/08/2019 & (-34.8520561229714, 138.61102023025944)   & 2017-12--3-18 & 1mc  & 1c1s   & serious\\_injury  & 40  & False & ... & slope & True  & False & fine    & Roll Over                  & daylight         & giveway\\_sign   & Y & NA & \\\\\n",
       "\t3183 & 100286 & 100286 & SA2017-12415-15/08/2019 & (-34.93501317843972, 138.63163468700935)  & 2017-12--5-13 & 1c1i & 0c     & property\\_damage & 50  & False & ... & level & True  & False & fine    & Hit Fixed Object           & daylight         & giveway\\_sign   & Y & NA & \\\\\n",
       "\t3362 & 100302 & 100302 & SA2017-12431-15/08/2019 & (-36.97262502762888, 140.73986061092063)  & 2017-12--6-0  & 1c1i & 0c     & property\\_damage & 60  & False & ... & slope & True  & False & fine    & Hit Fixed Object           & darkness\\_not\\_lit & none           & Y & NA & \\\\\n",
       "\t3428 & 100308 & 100308 & SA2017-12437-15/08/2019 & (-30.557642509714928, 138.43135055742223) & 2017-12--6-7  & 1w   & 1c1m   & minor\\_injury    & 100 & False & ... & crest & False & False & fine    & Roll Over                  & daylight         & none           & Y & NA & \\\\\n",
       "\t3684 & 100331 & 100331 & SA2017-12460-15/08/2019 & (-34.904143182124045, 138.6582304975103)  & 2017-12--6-23 & 1c1i & 1c1m   & minor\\_injury    & 50  & True  & ... & level & True  & False & fine    & Hit Fixed Object           & darkness\\_not\\_lit & none           & Y & NA & \\\\\n",
       "\t4017 & 100361 & 100361 & SA2017-12490-15/08/2019 & (-33.2000089675029, 138.30269650594155)   & 2017-12--7-2  & 1c1i & 1c1m   & minor\\_injury    & 110 & True  & ... & level & True  & False & fine    & Hit Fixed Object           & darkness\\_not\\_lit & none           & Y & NA & \\\\\n",
       "\t4094 & 100368 & 100368 & SA2017-12497-15/08/2019 & (-34.92484967969716, 138.58953315655273)  & 2017-12--1-1  & 1c1i & 1c1m   & minor\\_injury    & 50  & False & ... & level & True  & False & fine    & Hit Fixed Object           & darkness\\_not\\_lit & traffic\\_lights & Y & NA & \\\\\n",
       "\t5039 & 100453 & 100453 & SA2017-12582-15/08/2019 & (-34.68100287383124, 138.69020968596746)  & 2017-12--2-20 & 1c1i & 1c1m   & minor\\_injury    & 50  & True  & ... & level & True  & False & fine    & Hit Fixed Object           & darkness\\_not\\_lit & none           & Y & NA & \\\\\n",
       "\t5294 & 100476 & 100476 & SA2017-12605-15/08/2019 & (-35.2495924743844, 139.46095256829085)   & 2017-12--2-21 & 1c1i & 1c1m   & minor\\_injury    & 50  & False & ... & level & True  & False & fine    & Hit Fixed Object           & darkness\\_not\\_lit & none           & Y & NA & \\\\\n",
       "\t6116 &  10055 &  10055 & SA2012-10056-21/08/2019 & (-35.0270976688116, 138.5887436885681)    & 2012-6--3-10  & 2c   & 0c     & property\\_damage & 60  & True  & ... & slope & True  & False & fine    & Hit Parked Vehicle         & daylight         & none           & Y & NA & \\\\\n",
       "\t6594 & 100593 & 100593 & SA2017-12722-15/08/2019 & (-31.83260972356715, 132.7365444090528)   & 2017-12--6-11 & 1mc  & 1c1s   & serious\\_injury  & 100 & True  & ... & level & False & False & fine    & Left Road - Out of Control & daylight         & none           & Y & NA & \\\\\n",
       "\t6795 & 100611 & 100611 & SA2017-12740-15/08/2019 & (-34.865513080964796, 138.51193452292225) & 2017-12--6-21 & 1c1i & 1c1m   & minor\\_injury    & 60  & False & ... & level & True  & False & fine    & Hit Fixed Object           & darkness\\_not\\_lit & traffic\\_lights & Y & NA & \\\\\n",
       "\t6828 & 100614 & 100614 & SA2017-12743-15/08/2019 & (-35.00305407068851, 138.5655090049918)   & 2017-12--7-3  & 1c1i & 0c     & property\\_damage & 50  & True  & ... & level & True  & False & fine    & Hit Fixed Object           & darkness\\_not\\_lit & none           & Y & NA & \\\\\n",
       "\t6894 &  10062 &  10062 & SA2012-10063-21/08/2019 & (-34.92268745496161, 138.60555901971154)  & 2012-6--5-1   & 1x1p & 1c1m   & minor\\_injury    & 50  & False & ... & level & True  & False & fine    & Hit Pedestrian             & darkness\\_not\\_lit & traffic\\_lights & Y & NA & \\\\\n",
       "\t7105 & 100639 & 100639 & SA2017-12768-15/08/2019 & (-34.92145750396026, 138.69831792920414)  & 2017-12--7-22 & 1u1i & 1c1s   & serious\\_injury  & 60  & True  & ... & slope & True  & False & fine    & Hit Fixed Object           & darkness\\_not\\_lit & none           & Y & NA & \\\\\n",
       "\t7117 & 100640 & 100640 & SA2017-12769-15/08/2019 & (-35.02196468271379, 138.54639498921458)  & 2017-12--7-23 & 1c1o & 0c     & property\\_damage & 50  & True  & ... & level & True  & True  & fine    & Hit Parked Vehicle         & darkness\\_not\\_lit & none           & Y & NA & \\\\\n",
       "\t7150 & 100643 & 100643 & SA2017-12772-15/08/2019 & (-34.75070820244322, 138.63588718108596)  & 2017-12--7-11 & 1c1i & 0c     & property\\_damage & 50  & True  & ... & level & True  & False & fine    & Hit Fixed Object           & daylight         & none           & Y & NA & \\\\\n",
       "\t7549 & 100679 & 100679 & SA2017-12808-15/08/2019 & (-34.9743602124281, 138.53866139203876)   & 2017-12--1-21 & 1c1p & 1c1f   & fatality        & 60  & True  & ... & level & True  & True  & rain    & Hit Pedestrian             & darkness\\_not\\_lit & none           & Y & NA & \\\\\n",
       "\t7561 & 100680 & 100680 & SA2017-12809-15/08/2019 & (-34.91708924454642, 138.51336255171742)  & 2017-12--2-1  & 1c1i & 1c1m   & minor\\_injury    & 60  & True  & ... & level & True  & True  & rain    & Hit Fixed Object           & darkness\\_not\\_lit & none           & Y & NA & \\\\\n",
       "\t8549 & 100769 & 100769 & SA2017-12898-15/08/2019 & (-34.97954907672249, 138.53802375796135)  & 2017-12--3-17 & 2c   & 0c     & property\\_damage & 60  & True  & ... & level & True  & False & fine    & Side Swipe                 & daylight         & none           & Y & NA & \\\\\n",
       "\t... & ... & ... & ... & ... & ... & ... & ... & ... & ... & ... &  & ... & ... & ... & ... & ... & ... & ... & ... & ... & ...\\\\\n",
       "\t1508301 & 98996 & 98996 & SA2017-11125-15/08/2019 & (-34.40916431583048, 139.12495922731603)  & 2017-10--3-17 & 1w1i   & 1c1m   & minor\\_injury    & 50  & True  & ... & level & True  & False & fine    & Hit Fixed Object   & daylight         & none             & Y & NA & \\\\\n",
       "\t1508359 & 99001 & 99001 & SA2017-11130-15/08/2019 & (-34.938824089473655, 139.26029883851152) & 2017-11--5-22 & 1u1i   & 1c1s   & serious\\_injury  & 100 & True  & ... & slope & True  & False & fine    & Roll Over          & darkness\\_not\\_lit & none             & Y & NA & \\\\\n",
       "\t1508436 & 99008 & 99008 & SA2017-11137-15/08/2019 & (-33.934121120388156, 136.54388895391503) & 2017-11--6-0  & 1u     & 1c1s   & serious\\_injury  & 80  & True  & ... & level & False & False & fine    & Roll Over          & darkness\\_not\\_lit & none             & Y & NA & \\\\\n",
       "\t1508658 & 99028 & 99028 & SA2017-11157-15/08/2019 & (-35.50046455974397, 138.58162002148012)  & 2017-11--6-23 & 1c1i   & 0c     & property\\_damage & 80  & False & ... & slope & True  & False & fine    & Hit Fixed Object   & darkness\\_not\\_lit & none             & Y & NA & \\\\\n",
       "\t1509947 & 99144 & 99144 & SA2017-11273-15/08/2019 & (-32.448560651811604, 134.17831483544998) & 2017-11--3-1  & 1c     & 1c1f   & fatality        & 110 & True  & ... & level & True  & False & fine    & Roll Over          & darkness\\_not\\_lit & none             & Y & NA & \\\\\n",
       "\t1510169 & 99164 & 99164 & SA2017-11293-15/08/2019 & (-34.42190562436713, 138.33421140808645)  & 2017-11--3-23 & 1u1T   & 1c1f   & fatality        & 110 & False & ... & level & True  & False & fine    & Right Angle        & darkness\\_not\\_lit & giveway\\_sign     & Y & NA & \\\\\n",
       "\t1510380 & 99183 & 99183 & SA2017-11312-15/08/2019 & (-32.721461671815845, 137.93973467195144) & 2017-11--3-19 & 1c1T   & 1c1m   & minor\\_injury    & 110 & True  & ... & level & True  & False & fine    & Side Swipe         & daylight         & none             & Y & NA & \\\\\n",
       "\t1510603 & 99203 & 99203 & SA2017-11332-15/08/2019 & (-34.640170220659904, 138.69887737519426) & 2017-11--4-16 & 1w1i   & 4c4m   & minor\\_injury    & 100 & True  & ... & level & True  & False & fine    & Hit Fixed Object   & daylight         & none             & Y & NA & \\\\\n",
       "\t1511280 & 99264 & 99264 & SA2017-11393-15/08/2019 & (-34.889218846634066, 138.56591840452984) & 2017-11--4-17 & 1c1o   & 0c     & property\\_damage & 50  & True  & ... & level & True  & False & fine    & Hit Parked Vehicle & daylight         & none             & Y & NA & \\\\\n",
       "\t1511335 & 99269 & 99269 & SA2017-11398-15/08/2019 & (-34.832384337206896, 138.61214152337556) & 2017-11--6-20 & 1w1o   & 0c     & property\\_damage & 50  & True  & ... & level & True  & False & fine    & Hit Parked Vehicle & darkness\\_not\\_lit & none             & Y & NA & \\\\\n",
       "\t1511391 & 99274 & 99274 & SA2017-11403-15/08/2019 & (-34.923498742430546, 138.58944344726518) & 2017-11--7-4  & 3c     & 1c1m   & minor\\_injury    & 50  & False & ... & level & True  & False & fine    & Right Angle        & darkness\\_not\\_lit & stop\\_sign        & Y & NA & \\\\\n",
       "\t1511703 & 99302 & 99302 & SA2017-11431-15/08/2019 & (-34.36430541177397, 137.92784329153153)  & 2017-11--7-23 & 1c1i   & 1c1m   & minor\\_injury    & 100 & True  & ... & level & True  & False & fine    & Hit Fixed Object   & darkness\\_not\\_lit & none             & Y & NA & \\\\\n",
       "\t1513358 & 99451 & 99451 & SA2017-11580-15/08/2019 & (-34.69086708583676, 135.81816941151945)  & 2017-11--4-22 & 1c2i   & 0c     & property\\_damage & 100 & True  & ... & slope & False & False & fine    & Hit Fixed Object   & darkness\\_not\\_lit & none             & Y & NA & \\\\\n",
       "\t1513380 & 99453 & 99453 & SA2017-11582-15/08/2019 & (-36.617705359549696, 140.76607604645955) & 2017-11--5-0  & 1u1i   & 1c1m   & minor\\_injury    & 100 & True  & ... & level & False & True  & rain    & Hit Fixed Object   & darkness\\_not\\_lit & none             & Y & NA & \\\\\n",
       "\t1513857 & 99496 & 99496 & SA2017-11625-15/08/2019 & (-34.43901461193148, 138.93627689356506)  & 2017-11--5-23 & 1u1i   & 1c1m   & minor\\_injury    & 100 & True  & ... & level & True  & True  & unknown & Hit Fixed Object   & darkness\\_not\\_lit & none             & Y & NA & \\\\\n",
       "\t1513868 & 99497 & 99497 & SA2017-11626-15/08/2019 & (-34.59673196025781, 138.77567005151127)  & 2017-11--6-2  & 1c1i   & 0c     & property\\_damage & 80  & False & ... & level & True  & False & fine    & Hit Fixed Object   & darkness\\_not\\_lit & railway\\_crossing & Y & NA & \\\\\n",
       "\t1513879 & 99498 & 99498 & SA2017-11627-15/08/2019 & (-34.814592800922256, 138.8103997151652)  & 2017-11--6-3  & 1c1i   & 1c1m   & minor\\_injury    & 80  & False & ... & slope & True  & False & fine    & Hit Fixed Object   & darkness\\_not\\_lit & none             & Y & NA & \\\\\n",
       "\t1514158 & 99523 & 99523 & SA2017-11652-15/08/2019 & (-34.97639665136448, 138.72913685054584)  & 2017-11--5-19 & 1u1i   & 1c1m   & minor\\_injury    & 60  & True  & ... & slope & True  & True  & unknown & Hit Fixed Object   & daylight         & none             & Y & NA & \\\\\n",
       "\t1514535 & 99557 & 99557 & SA2017-11686-15/08/2019 & (-34.19465132873651, 140.75099460173578)  & 2017-11--7-0  & 1mc1o  & 1c1m   & minor\\_injury    & 80  & True  & ... & level & False & False & fine    & Roll Over          & darkness\\_not\\_lit & none             & Y & NA & \\\\\n",
       "\t1515036 & 99602 & 99602 & SA2017-11731-15/08/2019 & (-27.238802240441874, 134.8247610977176)  & 2017-11--7-16 & 1mc    & 1c1f   & fatality        & 100 & True  & ... & level & False & False & fine    & Roll Over          & daylight         & none             & Y & NA & \\\\\n",
       "\t1515857 & 99676 & 99676 & SA2017-11805-15/08/2019 & (-34.95381721406043, 138.5703915657118)   & 2017-11--3-22 & 1x1p   & 1c1f   & fatality        & 60  & True  & ... & level & True  & False & fine    & Hit Pedestrian     & darkness\\_not\\_lit & none             & Y & NA & \\\\\n",
       "\t1516090 & 99697 & 99697 & SA2017-11826-15/08/2019 & (-34.910583348606735, 138.4951166704266)  & 2017-11--4-8  & 1c1i1o & 0c     & property\\_damage & 50  & True  & ... & level & True  & True  & fine    & Hit Parked Vehicle & daylight         & none             & Y & NA & \\\\\n",
       "\t1517269 & 99803 & 99803 & SA2017-11932-15/08/2019 & (-34.96294828083722, 138.54929084326633)  & 2017-11--7-0  & 2c     & 0c     & property\\_damage & 50  & True  & ... & level & True  & False & fine    & Hit Parked Vehicle & darkness\\_not\\_lit & none             & Y & NA & \\\\\n",
       "\t1517646 & 99837 & 99837 & SA2017-11966-15/08/2019 & (-34.85410972089644, 138.69440174333604)  & 2017-9--4-2   & 1c1i   & 0c     & property\\_damage & 60  & True  & ... & level & True  & False & fine    & Hit Fixed Object   & darkness\\_not\\_lit & none             & Y & NA & \\\\\n",
       "\t1517979 & 99867 & 99867 & SA2017-11996-15/08/2019 & (-34.99593934143141, 138.53983026783806)  & 2017-11--1-18 & 1c2w   & 2c2m   & minor\\_injury    & 60  & True  & ... & level & True  & False & fine    & Rear End           & daylight         & none             & Y & NA & \\\\\n",
       "\t1518268 & 99893 & 99893 & SA2017-12022-15/08/2019 & (-35.16195131709894, 138.69362928895512)  & 2017-11--2-16 & 2c1i   & 3c2s1m & serious\\_injury  & 80  & True  & ... & slope & True  & False & fine    & Hit Fixed Object   & daylight         & none             & Y & NA & \\\\\n",
       "\t1518380 & 99903 & 99903 & SA2017-12032-15/08/2019 & (-34.44590388670488, 135.97425011956452)  & 2017-11--3-6  & 1c1i   & 1c1m   & minor\\_injury    & 110 & True  & ... & level & True  & False & fine    & Hit Fixed Object   & daylight         & none             & Y & NA & \\\\\n",
       "\t1518679 &  9993 &  9993 & SA2012-9994-21/08/2019  & (nan, nan)                                & 2012-6--3-22  & 1u1i   & 0c     & property\\_damage & 110 & True  & ... & crest & True  & False & fine    & Hit Fixed Object   & darkness\\_not\\_lit & none             & Y & NA & \\\\\n",
       "\t1518857 & 99946 & 99946 & SA2017-12075-15/08/2019 & (-35.13075187013011, 138.4793272057675)   & 2017-11--3-21 & 1w1o   & 1c1s   & serious\\_injury  & 60  & True  & ... & level & True  & False & fine    & Hit Parked Vehicle & darkness\\_not\\_lit & none             & Y & NA & \\\\\n",
       "\t1519268 & 99983 & 99983 & SA2017-12112-15/08/2019 & (-34.924415673571325, 138.5997156990866)  & 2017-11--4-22 & 1c2p   & 0c     & property\\_damage & 50  & False & ... & level & True  & True  & rain    & Hit Pedestrian     & darkness\\_not\\_lit & traffic\\_lights   & Y & NA & \\\\\n",
       "\\end{tabular}\n"
      ],
      "text/markdown": [
       "\n",
       "A data.frame: 3630 × 22\n",
       "\n",
       "| <!--/--> | X &lt;int&gt; | description_id &lt;int&gt; | crash_id &lt;chr&gt; | lat_long &lt;chr&gt; | date_time_id &lt;chr&gt; | vehicles_id &lt;chr&gt; | casualties_id &lt;chr&gt; | severity &lt;chr&gt; | speed_limit &lt;chr&gt; | midblock &lt;chr&gt; | ... ... | road_position_vertical &lt;chr&gt; | road_sealed &lt;chr&gt; | road_wet &lt;chr&gt; | weather &lt;chr&gt; | crash_type &lt;chr&gt; | lighting &lt;chr&gt; | traffic_controls &lt;chr&gt; | drugs_alcohol &lt;chr&gt; | DCA_code &lt;dbl&gt; | comment &lt;chr&gt; |\n",
       "|---|---|---|---|---|---|---|---|---|---|---|---|---|---|---|---|---|---|---|---|---|---|\n",
       "| 240 | 100021 | 100021 | SA2017-12150-15/08/2019 | (-35.02119369669627, 138.74256041993976)  | 2017-12--5-19 | 1w1i | 0c     | property_damage | 50  | True  | ... | level | True  | True  | unknown | Hit Fixed Object           | daylight         | none           | Y | NA | <!----> |\n",
       "| 251 | 100022 | 100022 | SA2017-12151-15/08/2019 | (-34.85408989844591, 138.49308036224886)  | 2017-12--5-22 | 1c1p | 1c1m   | minor_injury    | 50  | True  | ... | level | True  | False | fine    | Hit Pedestrian             | darkness_not_lit | none           | Y | NA | <!----> |\n",
       "| 328 | 100029 | 100029 | SA2017-12158-15/08/2019 | (-34.88950829555641, 138.6397021898861)   | 2017-12--6-6  | 1c1i | 0c     | property_damage | 60  | True  | ... | level | True  | False | fine    | Hit Fixed Object           | daylight         | none           | Y | NA | <!----> |\n",
       "| 473 | 100042 | 100042 | SA2017-12171-15/08/2019 | (-35.003933142922946, 138.8249966421832)  | 2017-12--6-1  | 1u2i | 0c     | property_damage | 80  | True  | ... | slope | True  | True  | fine    | Hit Fixed Object           | darkness_not_lit | none           | Y | NA | <!----> |\n",
       "| 528 | 100047 | 100047 | SA2017-12176-15/08/2019 | (-34.942828630202484, 138.55703993476507) | 2017-12--6-19 | 1c1i | 0c     | property_damage | 60  | False | ... | level | True  | False | fine    | Hit Fixed Object           | daylight         | giveway_sign   | Y | NA | <!----> |\n",
       "| 539 | 100048 | 100048 | SA2017-12177-15/08/2019 | (-34.00152279096938, 138.8198244050492)   | 2017-12--6-15 | 1c1i | 1c1s   | serious_injury  | 50  | True  | ... | level | True  | False | fine    | Hit Fixed Object           | daylight         | none           | Y | NA | <!----> |\n",
       "| 695 | 100062 | 100062 | SA2017-12191-15/08/2019 | (-35.307478580454045, 138.47328534009807) | 2017-12--6-22 | 1u1w | 3c2s1m | serious_injury  | 90  | False | ... | level | True  | False | fine    | Right Angle                | darkness_not_lit | stop_sign      | Y | NA | <!----> |\n",
       "| 950 | 100085 | 100085 | SA2017-12214-15/08/2019 | (-34.87439796432449, 138.63285187380419)  | 2017-12--7-3  | 1c1i | 0c     | property_damage | 60  | False | ... | level | True  | False | fine    | Hit Fixed Object           | darkness_not_lit | traffic_lights | Y | NA | <!----> |\n",
       "| 1406 | 100126 | 100126 | SA2017-12255-15/08/2019 | (-34.72724362611111, 139.2757363149307)   | 2017-12--1-17 | 1c   | 1c1m   | minor_injury    | 100 | True  | ... | slope | True  | False | fine    | Left Road - Out of Control | daylight         | none           | Y | NA | <!----> |\n",
       "| 2039 | 100183 | 100183 | SA2017-12312-15/08/2019 | (-34.86133743133193, 138.60816640290997)  | 2017-12--3-9  | 2c   | 0c     | property_damage | 50  | False | ... | slope | True  | False | fine    | Right Angle                | daylight         | giveway_sign   | Y | NA | <!----> |\n",
       "| 2251 | 100202 | 100202 | SA2017-12331-15/08/2019 | (-34.8520561229714, 138.61102023025944)   | 2017-12--3-18 | 1mc  | 1c1s   | serious_injury  | 40  | False | ... | slope | True  | False | fine    | Roll Over                  | daylight         | giveway_sign   | Y | NA | <!----> |\n",
       "| 3183 | 100286 | 100286 | SA2017-12415-15/08/2019 | (-34.93501317843972, 138.63163468700935)  | 2017-12--5-13 | 1c1i | 0c     | property_damage | 50  | False | ... | level | True  | False | fine    | Hit Fixed Object           | daylight         | giveway_sign   | Y | NA | <!----> |\n",
       "| 3362 | 100302 | 100302 | SA2017-12431-15/08/2019 | (-36.97262502762888, 140.73986061092063)  | 2017-12--6-0  | 1c1i | 0c     | property_damage | 60  | False | ... | slope | True  | False | fine    | Hit Fixed Object           | darkness_not_lit | none           | Y | NA | <!----> |\n",
       "| 3428 | 100308 | 100308 | SA2017-12437-15/08/2019 | (-30.557642509714928, 138.43135055742223) | 2017-12--6-7  | 1w   | 1c1m   | minor_injury    | 100 | False | ... | crest | False | False | fine    | Roll Over                  | daylight         | none           | Y | NA | <!----> |\n",
       "| 3684 | 100331 | 100331 | SA2017-12460-15/08/2019 | (-34.904143182124045, 138.6582304975103)  | 2017-12--6-23 | 1c1i | 1c1m   | minor_injury    | 50  | True  | ... | level | True  | False | fine    | Hit Fixed Object           | darkness_not_lit | none           | Y | NA | <!----> |\n",
       "| 4017 | 100361 | 100361 | SA2017-12490-15/08/2019 | (-33.2000089675029, 138.30269650594155)   | 2017-12--7-2  | 1c1i | 1c1m   | minor_injury    | 110 | True  | ... | level | True  | False | fine    | Hit Fixed Object           | darkness_not_lit | none           | Y | NA | <!----> |\n",
       "| 4094 | 100368 | 100368 | SA2017-12497-15/08/2019 | (-34.92484967969716, 138.58953315655273)  | 2017-12--1-1  | 1c1i | 1c1m   | minor_injury    | 50  | False | ... | level | True  | False | fine    | Hit Fixed Object           | darkness_not_lit | traffic_lights | Y | NA | <!----> |\n",
       "| 5039 | 100453 | 100453 | SA2017-12582-15/08/2019 | (-34.68100287383124, 138.69020968596746)  | 2017-12--2-20 | 1c1i | 1c1m   | minor_injury    | 50  | True  | ... | level | True  | False | fine    | Hit Fixed Object           | darkness_not_lit | none           | Y | NA | <!----> |\n",
       "| 5294 | 100476 | 100476 | SA2017-12605-15/08/2019 | (-35.2495924743844, 139.46095256829085)   | 2017-12--2-21 | 1c1i | 1c1m   | minor_injury    | 50  | False | ... | level | True  | False | fine    | Hit Fixed Object           | darkness_not_lit | none           | Y | NA | <!----> |\n",
       "| 6116 |  10055 |  10055 | SA2012-10056-21/08/2019 | (-35.0270976688116, 138.5887436885681)    | 2012-6--3-10  | 2c   | 0c     | property_damage | 60  | True  | ... | slope | True  | False | fine    | Hit Parked Vehicle         | daylight         | none           | Y | NA | <!----> |\n",
       "| 6594 | 100593 | 100593 | SA2017-12722-15/08/2019 | (-31.83260972356715, 132.7365444090528)   | 2017-12--6-11 | 1mc  | 1c1s   | serious_injury  | 100 | True  | ... | level | False | False | fine    | Left Road - Out of Control | daylight         | none           | Y | NA | <!----> |\n",
       "| 6795 | 100611 | 100611 | SA2017-12740-15/08/2019 | (-34.865513080964796, 138.51193452292225) | 2017-12--6-21 | 1c1i | 1c1m   | minor_injury    | 60  | False | ... | level | True  | False | fine    | Hit Fixed Object           | darkness_not_lit | traffic_lights | Y | NA | <!----> |\n",
       "| 6828 | 100614 | 100614 | SA2017-12743-15/08/2019 | (-35.00305407068851, 138.5655090049918)   | 2017-12--7-3  | 1c1i | 0c     | property_damage | 50  | True  | ... | level | True  | False | fine    | Hit Fixed Object           | darkness_not_lit | none           | Y | NA | <!----> |\n",
       "| 6894 |  10062 |  10062 | SA2012-10063-21/08/2019 | (-34.92268745496161, 138.60555901971154)  | 2012-6--5-1   | 1x1p | 1c1m   | minor_injury    | 50  | False | ... | level | True  | False | fine    | Hit Pedestrian             | darkness_not_lit | traffic_lights | Y | NA | <!----> |\n",
       "| 7105 | 100639 | 100639 | SA2017-12768-15/08/2019 | (-34.92145750396026, 138.69831792920414)  | 2017-12--7-22 | 1u1i | 1c1s   | serious_injury  | 60  | True  | ... | slope | True  | False | fine    | Hit Fixed Object           | darkness_not_lit | none           | Y | NA | <!----> |\n",
       "| 7117 | 100640 | 100640 | SA2017-12769-15/08/2019 | (-35.02196468271379, 138.54639498921458)  | 2017-12--7-23 | 1c1o | 0c     | property_damage | 50  | True  | ... | level | True  | True  | fine    | Hit Parked Vehicle         | darkness_not_lit | none           | Y | NA | <!----> |\n",
       "| 7150 | 100643 | 100643 | SA2017-12772-15/08/2019 | (-34.75070820244322, 138.63588718108596)  | 2017-12--7-11 | 1c1i | 0c     | property_damage | 50  | True  | ... | level | True  | False | fine    | Hit Fixed Object           | daylight         | none           | Y | NA | <!----> |\n",
       "| 7549 | 100679 | 100679 | SA2017-12808-15/08/2019 | (-34.9743602124281, 138.53866139203876)   | 2017-12--1-21 | 1c1p | 1c1f   | fatality        | 60  | True  | ... | level | True  | True  | rain    | Hit Pedestrian             | darkness_not_lit | none           | Y | NA | <!----> |\n",
       "| 7561 | 100680 | 100680 | SA2017-12809-15/08/2019 | (-34.91708924454642, 138.51336255171742)  | 2017-12--2-1  | 1c1i | 1c1m   | minor_injury    | 60  | True  | ... | level | True  | True  | rain    | Hit Fixed Object           | darkness_not_lit | none           | Y | NA | <!----> |\n",
       "| 8549 | 100769 | 100769 | SA2017-12898-15/08/2019 | (-34.97954907672249, 138.53802375796135)  | 2017-12--3-17 | 2c   | 0c     | property_damage | 60  | True  | ... | level | True  | False | fine    | Side Swipe                 | daylight         | none           | Y | NA | <!----> |\n",
       "| ... | ... | ... | ... | ... | ... | ... | ... | ... | ... | ... | <!----> | ... | ... | ... | ... | ... | ... | ... | ... | ... | ... |\n",
       "| 1508301 | 98996 | 98996 | SA2017-11125-15/08/2019 | (-34.40916431583048, 139.12495922731603)  | 2017-10--3-17 | 1w1i   | 1c1m   | minor_injury    | 50  | True  | ... | level | True  | False | fine    | Hit Fixed Object   | daylight         | none             | Y | NA | <!----> |\n",
       "| 1508359 | 99001 | 99001 | SA2017-11130-15/08/2019 | (-34.938824089473655, 139.26029883851152) | 2017-11--5-22 | 1u1i   | 1c1s   | serious_injury  | 100 | True  | ... | slope | True  | False | fine    | Roll Over          | darkness_not_lit | none             | Y | NA | <!----> |\n",
       "| 1508436 | 99008 | 99008 | SA2017-11137-15/08/2019 | (-33.934121120388156, 136.54388895391503) | 2017-11--6-0  | 1u     | 1c1s   | serious_injury  | 80  | True  | ... | level | False | False | fine    | Roll Over          | darkness_not_lit | none             | Y | NA | <!----> |\n",
       "| 1508658 | 99028 | 99028 | SA2017-11157-15/08/2019 | (-35.50046455974397, 138.58162002148012)  | 2017-11--6-23 | 1c1i   | 0c     | property_damage | 80  | False | ... | slope | True  | False | fine    | Hit Fixed Object   | darkness_not_lit | none             | Y | NA | <!----> |\n",
       "| 1509947 | 99144 | 99144 | SA2017-11273-15/08/2019 | (-32.448560651811604, 134.17831483544998) | 2017-11--3-1  | 1c     | 1c1f   | fatality        | 110 | True  | ... | level | True  | False | fine    | Roll Over          | darkness_not_lit | none             | Y | NA | <!----> |\n",
       "| 1510169 | 99164 | 99164 | SA2017-11293-15/08/2019 | (-34.42190562436713, 138.33421140808645)  | 2017-11--3-23 | 1u1T   | 1c1f   | fatality        | 110 | False | ... | level | True  | False | fine    | Right Angle        | darkness_not_lit | giveway_sign     | Y | NA | <!----> |\n",
       "| 1510380 | 99183 | 99183 | SA2017-11312-15/08/2019 | (-32.721461671815845, 137.93973467195144) | 2017-11--3-19 | 1c1T   | 1c1m   | minor_injury    | 110 | True  | ... | level | True  | False | fine    | Side Swipe         | daylight         | none             | Y | NA | <!----> |\n",
       "| 1510603 | 99203 | 99203 | SA2017-11332-15/08/2019 | (-34.640170220659904, 138.69887737519426) | 2017-11--4-16 | 1w1i   | 4c4m   | minor_injury    | 100 | True  | ... | level | True  | False | fine    | Hit Fixed Object   | daylight         | none             | Y | NA | <!----> |\n",
       "| 1511280 | 99264 | 99264 | SA2017-11393-15/08/2019 | (-34.889218846634066, 138.56591840452984) | 2017-11--4-17 | 1c1o   | 0c     | property_damage | 50  | True  | ... | level | True  | False | fine    | Hit Parked Vehicle | daylight         | none             | Y | NA | <!----> |\n",
       "| 1511335 | 99269 | 99269 | SA2017-11398-15/08/2019 | (-34.832384337206896, 138.61214152337556) | 2017-11--6-20 | 1w1o   | 0c     | property_damage | 50  | True  | ... | level | True  | False | fine    | Hit Parked Vehicle | darkness_not_lit | none             | Y | NA | <!----> |\n",
       "| 1511391 | 99274 | 99274 | SA2017-11403-15/08/2019 | (-34.923498742430546, 138.58944344726518) | 2017-11--7-4  | 3c     | 1c1m   | minor_injury    | 50  | False | ... | level | True  | False | fine    | Right Angle        | darkness_not_lit | stop_sign        | Y | NA | <!----> |\n",
       "| 1511703 | 99302 | 99302 | SA2017-11431-15/08/2019 | (-34.36430541177397, 137.92784329153153)  | 2017-11--7-23 | 1c1i   | 1c1m   | minor_injury    | 100 | True  | ... | level | True  | False | fine    | Hit Fixed Object   | darkness_not_lit | none             | Y | NA | <!----> |\n",
       "| 1513358 | 99451 | 99451 | SA2017-11580-15/08/2019 | (-34.69086708583676, 135.81816941151945)  | 2017-11--4-22 | 1c2i   | 0c     | property_damage | 100 | True  | ... | slope | False | False | fine    | Hit Fixed Object   | darkness_not_lit | none             | Y | NA | <!----> |\n",
       "| 1513380 | 99453 | 99453 | SA2017-11582-15/08/2019 | (-36.617705359549696, 140.76607604645955) | 2017-11--5-0  | 1u1i   | 1c1m   | minor_injury    | 100 | True  | ... | level | False | True  | rain    | Hit Fixed Object   | darkness_not_lit | none             | Y | NA | <!----> |\n",
       "| 1513857 | 99496 | 99496 | SA2017-11625-15/08/2019 | (-34.43901461193148, 138.93627689356506)  | 2017-11--5-23 | 1u1i   | 1c1m   | minor_injury    | 100 | True  | ... | level | True  | True  | unknown | Hit Fixed Object   | darkness_not_lit | none             | Y | NA | <!----> |\n",
       "| 1513868 | 99497 | 99497 | SA2017-11626-15/08/2019 | (-34.59673196025781, 138.77567005151127)  | 2017-11--6-2  | 1c1i   | 0c     | property_damage | 80  | False | ... | level | True  | False | fine    | Hit Fixed Object   | darkness_not_lit | railway_crossing | Y | NA | <!----> |\n",
       "| 1513879 | 99498 | 99498 | SA2017-11627-15/08/2019 | (-34.814592800922256, 138.8103997151652)  | 2017-11--6-3  | 1c1i   | 1c1m   | minor_injury    | 80  | False | ... | slope | True  | False | fine    | Hit Fixed Object   | darkness_not_lit | none             | Y | NA | <!----> |\n",
       "| 1514158 | 99523 | 99523 | SA2017-11652-15/08/2019 | (-34.97639665136448, 138.72913685054584)  | 2017-11--5-19 | 1u1i   | 1c1m   | minor_injury    | 60  | True  | ... | slope | True  | True  | unknown | Hit Fixed Object   | daylight         | none             | Y | NA | <!----> |\n",
       "| 1514535 | 99557 | 99557 | SA2017-11686-15/08/2019 | (-34.19465132873651, 140.75099460173578)  | 2017-11--7-0  | 1mc1o  | 1c1m   | minor_injury    | 80  | True  | ... | level | False | False | fine    | Roll Over          | darkness_not_lit | none             | Y | NA | <!----> |\n",
       "| 1515036 | 99602 | 99602 | SA2017-11731-15/08/2019 | (-27.238802240441874, 134.8247610977176)  | 2017-11--7-16 | 1mc    | 1c1f   | fatality        | 100 | True  | ... | level | False | False | fine    | Roll Over          | daylight         | none             | Y | NA | <!----> |\n",
       "| 1515857 | 99676 | 99676 | SA2017-11805-15/08/2019 | (-34.95381721406043, 138.5703915657118)   | 2017-11--3-22 | 1x1p   | 1c1f   | fatality        | 60  | True  | ... | level | True  | False | fine    | Hit Pedestrian     | darkness_not_lit | none             | Y | NA | <!----> |\n",
       "| 1516090 | 99697 | 99697 | SA2017-11826-15/08/2019 | (-34.910583348606735, 138.4951166704266)  | 2017-11--4-8  | 1c1i1o | 0c     | property_damage | 50  | True  | ... | level | True  | True  | fine    | Hit Parked Vehicle | daylight         | none             | Y | NA | <!----> |\n",
       "| 1517269 | 99803 | 99803 | SA2017-11932-15/08/2019 | (-34.96294828083722, 138.54929084326633)  | 2017-11--7-0  | 2c     | 0c     | property_damage | 50  | True  | ... | level | True  | False | fine    | Hit Parked Vehicle | darkness_not_lit | none             | Y | NA | <!----> |\n",
       "| 1517646 | 99837 | 99837 | SA2017-11966-15/08/2019 | (-34.85410972089644, 138.69440174333604)  | 2017-9--4-2   | 1c1i   | 0c     | property_damage | 60  | True  | ... | level | True  | False | fine    | Hit Fixed Object   | darkness_not_lit | none             | Y | NA | <!----> |\n",
       "| 1517979 | 99867 | 99867 | SA2017-11996-15/08/2019 | (-34.99593934143141, 138.53983026783806)  | 2017-11--1-18 | 1c2w   | 2c2m   | minor_injury    | 60  | True  | ... | level | True  | False | fine    | Rear End           | daylight         | none             | Y | NA | <!----> |\n",
       "| 1518268 | 99893 | 99893 | SA2017-12022-15/08/2019 | (-35.16195131709894, 138.69362928895512)  | 2017-11--2-16 | 2c1i   | 3c2s1m | serious_injury  | 80  | True  | ... | slope | True  | False | fine    | Hit Fixed Object   | daylight         | none             | Y | NA | <!----> |\n",
       "| 1518380 | 99903 | 99903 | SA2017-12032-15/08/2019 | (-34.44590388670488, 135.97425011956452)  | 2017-11--3-6  | 1c1i   | 1c1m   | minor_injury    | 110 | True  | ... | level | True  | False | fine    | Hit Fixed Object   | daylight         | none             | Y | NA | <!----> |\n",
       "| 1518679 |  9993 |  9993 | SA2012-9994-21/08/2019  | (nan, nan)                                | 2012-6--3-22  | 1u1i   | 0c     | property_damage | 110 | True  | ... | crest | True  | False | fine    | Hit Fixed Object   | darkness_not_lit | none             | Y | NA | <!----> |\n",
       "| 1518857 | 99946 | 99946 | SA2017-12075-15/08/2019 | (-35.13075187013011, 138.4793272057675)   | 2017-11--3-21 | 1w1o   | 1c1s   | serious_injury  | 60  | True  | ... | level | True  | False | fine    | Hit Parked Vehicle | darkness_not_lit | none             | Y | NA | <!----> |\n",
       "| 1519268 | 99983 | 99983 | SA2017-12112-15/08/2019 | (-34.924415673571325, 138.5997156990866)  | 2017-11--4-22 | 1c2p   | 0c     | property_damage | 50  | False | ... | level | True  | True  | rain    | Hit Pedestrian     | darkness_not_lit | traffic_lights   | Y | NA | <!----> |\n",
       "\n"
      ],
      "text/plain": [
       "        X      description_id crash_id               \n",
       "240     100021 100021         SA2017-12150-15/08/2019\n",
       "251     100022 100022         SA2017-12151-15/08/2019\n",
       "328     100029 100029         SA2017-12158-15/08/2019\n",
       "473     100042 100042         SA2017-12171-15/08/2019\n",
       "528     100047 100047         SA2017-12176-15/08/2019\n",
       "539     100048 100048         SA2017-12177-15/08/2019\n",
       "695     100062 100062         SA2017-12191-15/08/2019\n",
       "950     100085 100085         SA2017-12214-15/08/2019\n",
       "1406    100126 100126         SA2017-12255-15/08/2019\n",
       "2039    100183 100183         SA2017-12312-15/08/2019\n",
       "2251    100202 100202         SA2017-12331-15/08/2019\n",
       "3183    100286 100286         SA2017-12415-15/08/2019\n",
       "3362    100302 100302         SA2017-12431-15/08/2019\n",
       "3428    100308 100308         SA2017-12437-15/08/2019\n",
       "3684    100331 100331         SA2017-12460-15/08/2019\n",
       "4017    100361 100361         SA2017-12490-15/08/2019\n",
       "4094    100368 100368         SA2017-12497-15/08/2019\n",
       "5039    100453 100453         SA2017-12582-15/08/2019\n",
       "5294    100476 100476         SA2017-12605-15/08/2019\n",
       "6116     10055  10055         SA2012-10056-21/08/2019\n",
       "6594    100593 100593         SA2017-12722-15/08/2019\n",
       "6795    100611 100611         SA2017-12740-15/08/2019\n",
       "6828    100614 100614         SA2017-12743-15/08/2019\n",
       "6894     10062  10062         SA2012-10063-21/08/2019\n",
       "7105    100639 100639         SA2017-12768-15/08/2019\n",
       "7117    100640 100640         SA2017-12769-15/08/2019\n",
       "7150    100643 100643         SA2017-12772-15/08/2019\n",
       "7549    100679 100679         SA2017-12808-15/08/2019\n",
       "7561    100680 100680         SA2017-12809-15/08/2019\n",
       "8549    100769 100769         SA2017-12898-15/08/2019\n",
       "...     ...    ...            ...                    \n",
       "1508301 98996  98996          SA2017-11125-15/08/2019\n",
       "1508359 99001  99001          SA2017-11130-15/08/2019\n",
       "1508436 99008  99008          SA2017-11137-15/08/2019\n",
       "1508658 99028  99028          SA2017-11157-15/08/2019\n",
       "1509947 99144  99144          SA2017-11273-15/08/2019\n",
       "1510169 99164  99164          SA2017-11293-15/08/2019\n",
       "1510380 99183  99183          SA2017-11312-15/08/2019\n",
       "1510603 99203  99203          SA2017-11332-15/08/2019\n",
       "1511280 99264  99264          SA2017-11393-15/08/2019\n",
       "1511335 99269  99269          SA2017-11398-15/08/2019\n",
       "1511391 99274  99274          SA2017-11403-15/08/2019\n",
       "1511703 99302  99302          SA2017-11431-15/08/2019\n",
       "1513358 99451  99451          SA2017-11580-15/08/2019\n",
       "1513380 99453  99453          SA2017-11582-15/08/2019\n",
       "1513857 99496  99496          SA2017-11625-15/08/2019\n",
       "1513868 99497  99497          SA2017-11626-15/08/2019\n",
       "1513879 99498  99498          SA2017-11627-15/08/2019\n",
       "1514158 99523  99523          SA2017-11652-15/08/2019\n",
       "1514535 99557  99557          SA2017-11686-15/08/2019\n",
       "1515036 99602  99602          SA2017-11731-15/08/2019\n",
       "1515857 99676  99676          SA2017-11805-15/08/2019\n",
       "1516090 99697  99697          SA2017-11826-15/08/2019\n",
       "1517269 99803  99803          SA2017-11932-15/08/2019\n",
       "1517646 99837  99837          SA2017-11966-15/08/2019\n",
       "1517979 99867  99867          SA2017-11996-15/08/2019\n",
       "1518268 99893  99893          SA2017-12022-15/08/2019\n",
       "1518380 99903  99903          SA2017-12032-15/08/2019\n",
       "1518679  9993   9993          SA2012-9994-21/08/2019 \n",
       "1518857 99946  99946          SA2017-12075-15/08/2019\n",
       "1519268 99983  99983          SA2017-12112-15/08/2019\n",
       "        lat_long                                  date_time_id  vehicles_id\n",
       "240     (-35.02119369669627, 138.74256041993976)  2017-12--5-19 1w1i       \n",
       "251     (-34.85408989844591, 138.49308036224886)  2017-12--5-22 1c1p       \n",
       "328     (-34.88950829555641, 138.6397021898861)   2017-12--6-6  1c1i       \n",
       "473     (-35.003933142922946, 138.8249966421832)  2017-12--6-1  1u2i       \n",
       "528     (-34.942828630202484, 138.55703993476507) 2017-12--6-19 1c1i       \n",
       "539     (-34.00152279096938, 138.8198244050492)   2017-12--6-15 1c1i       \n",
       "695     (-35.307478580454045, 138.47328534009807) 2017-12--6-22 1u1w       \n",
       "950     (-34.87439796432449, 138.63285187380419)  2017-12--7-3  1c1i       \n",
       "1406    (-34.72724362611111, 139.2757363149307)   2017-12--1-17 1c         \n",
       "2039    (-34.86133743133193, 138.60816640290997)  2017-12--3-9  2c         \n",
       "2251    (-34.8520561229714, 138.61102023025944)   2017-12--3-18 1mc        \n",
       "3183    (-34.93501317843972, 138.63163468700935)  2017-12--5-13 1c1i       \n",
       "3362    (-36.97262502762888, 140.73986061092063)  2017-12--6-0  1c1i       \n",
       "3428    (-30.557642509714928, 138.43135055742223) 2017-12--6-7  1w         \n",
       "3684    (-34.904143182124045, 138.6582304975103)  2017-12--6-23 1c1i       \n",
       "4017    (-33.2000089675029, 138.30269650594155)   2017-12--7-2  1c1i       \n",
       "4094    (-34.92484967969716, 138.58953315655273)  2017-12--1-1  1c1i       \n",
       "5039    (-34.68100287383124, 138.69020968596746)  2017-12--2-20 1c1i       \n",
       "5294    (-35.2495924743844, 139.46095256829085)   2017-12--2-21 1c1i       \n",
       "6116    (-35.0270976688116, 138.5887436885681)    2012-6--3-10  2c         \n",
       "6594    (-31.83260972356715, 132.7365444090528)   2017-12--6-11 1mc        \n",
       "6795    (-34.865513080964796, 138.51193452292225) 2017-12--6-21 1c1i       \n",
       "6828    (-35.00305407068851, 138.5655090049918)   2017-12--7-3  1c1i       \n",
       "6894    (-34.92268745496161, 138.60555901971154)  2012-6--5-1   1x1p       \n",
       "7105    (-34.92145750396026, 138.69831792920414)  2017-12--7-22 1u1i       \n",
       "7117    (-35.02196468271379, 138.54639498921458)  2017-12--7-23 1c1o       \n",
       "7150    (-34.75070820244322, 138.63588718108596)  2017-12--7-11 1c1i       \n",
       "7549    (-34.9743602124281, 138.53866139203876)   2017-12--1-21 1c1p       \n",
       "7561    (-34.91708924454642, 138.51336255171742)  2017-12--2-1  1c1i       \n",
       "8549    (-34.97954907672249, 138.53802375796135)  2017-12--3-17 2c         \n",
       "...     ...                                       ...           ...        \n",
       "1508301 (-34.40916431583048, 139.12495922731603)  2017-10--3-17 1w1i       \n",
       "1508359 (-34.938824089473655, 139.26029883851152) 2017-11--5-22 1u1i       \n",
       "1508436 (-33.934121120388156, 136.54388895391503) 2017-11--6-0  1u         \n",
       "1508658 (-35.50046455974397, 138.58162002148012)  2017-11--6-23 1c1i       \n",
       "1509947 (-32.448560651811604, 134.17831483544998) 2017-11--3-1  1c         \n",
       "1510169 (-34.42190562436713, 138.33421140808645)  2017-11--3-23 1u1T       \n",
       "1510380 (-32.721461671815845, 137.93973467195144) 2017-11--3-19 1c1T       \n",
       "1510603 (-34.640170220659904, 138.69887737519426) 2017-11--4-16 1w1i       \n",
       "1511280 (-34.889218846634066, 138.56591840452984) 2017-11--4-17 1c1o       \n",
       "1511335 (-34.832384337206896, 138.61214152337556) 2017-11--6-20 1w1o       \n",
       "1511391 (-34.923498742430546, 138.58944344726518) 2017-11--7-4  3c         \n",
       "1511703 (-34.36430541177397, 137.92784329153153)  2017-11--7-23 1c1i       \n",
       "1513358 (-34.69086708583676, 135.81816941151945)  2017-11--4-22 1c2i       \n",
       "1513380 (-36.617705359549696, 140.76607604645955) 2017-11--5-0  1u1i       \n",
       "1513857 (-34.43901461193148, 138.93627689356506)  2017-11--5-23 1u1i       \n",
       "1513868 (-34.59673196025781, 138.77567005151127)  2017-11--6-2  1c1i       \n",
       "1513879 (-34.814592800922256, 138.8103997151652)  2017-11--6-3  1c1i       \n",
       "1514158 (-34.97639665136448, 138.72913685054584)  2017-11--5-19 1u1i       \n",
       "1514535 (-34.19465132873651, 140.75099460173578)  2017-11--7-0  1mc1o      \n",
       "1515036 (-27.238802240441874, 134.8247610977176)  2017-11--7-16 1mc        \n",
       "1515857 (-34.95381721406043, 138.5703915657118)   2017-11--3-22 1x1p       \n",
       "1516090 (-34.910583348606735, 138.4951166704266)  2017-11--4-8  1c1i1o     \n",
       "1517269 (-34.96294828083722, 138.54929084326633)  2017-11--7-0  2c         \n",
       "1517646 (-34.85410972089644, 138.69440174333604)  2017-9--4-2   1c1i       \n",
       "1517979 (-34.99593934143141, 138.53983026783806)  2017-11--1-18 1c2w       \n",
       "1518268 (-35.16195131709894, 138.69362928895512)  2017-11--2-16 2c1i       \n",
       "1518380 (-34.44590388670488, 135.97425011956452)  2017-11--3-6  1c1i       \n",
       "1518679 (nan, nan)                                2012-6--3-22  1u1i       \n",
       "1518857 (-35.13075187013011, 138.4793272057675)   2017-11--3-21 1w1o       \n",
       "1519268 (-34.924415673571325, 138.5997156990866)  2017-11--4-22 1c2p       \n",
       "        casualties_id severity        speed_limit midblock ...\n",
       "240     0c            property_damage 50          True     ...\n",
       "251     1c1m          minor_injury    50          True     ...\n",
       "328     0c            property_damage 60          True     ...\n",
       "473     0c            property_damage 80          True     ...\n",
       "528     0c            property_damage 60          False    ...\n",
       "539     1c1s          serious_injury  50          True     ...\n",
       "695     3c2s1m        serious_injury  90          False    ...\n",
       "950     0c            property_damage 60          False    ...\n",
       "1406    1c1m          minor_injury    100         True     ...\n",
       "2039    0c            property_damage 50          False    ...\n",
       "2251    1c1s          serious_injury  40          False    ...\n",
       "3183    0c            property_damage 50          False    ...\n",
       "3362    0c            property_damage 60          False    ...\n",
       "3428    1c1m          minor_injury    100         False    ...\n",
       "3684    1c1m          minor_injury    50          True     ...\n",
       "4017    1c1m          minor_injury    110         True     ...\n",
       "4094    1c1m          minor_injury    50          False    ...\n",
       "5039    1c1m          minor_injury    50          True     ...\n",
       "5294    1c1m          minor_injury    50          False    ...\n",
       "6116    0c            property_damage 60          True     ...\n",
       "6594    1c1s          serious_injury  100         True     ...\n",
       "6795    1c1m          minor_injury    60          False    ...\n",
       "6828    0c            property_damage 50          True     ...\n",
       "6894    1c1m          minor_injury    50          False    ...\n",
       "7105    1c1s          serious_injury  60          True     ...\n",
       "7117    0c            property_damage 50          True     ...\n",
       "7150    0c            property_damage 50          True     ...\n",
       "7549    1c1f          fatality        60          True     ...\n",
       "7561    1c1m          minor_injury    60          True     ...\n",
       "8549    0c            property_damage 60          True     ...\n",
       "...     ...           ...             ...         ...         \n",
       "1508301 1c1m          minor_injury    50          True     ...\n",
       "1508359 1c1s          serious_injury  100         True     ...\n",
       "1508436 1c1s          serious_injury  80          True     ...\n",
       "1508658 0c            property_damage 80          False    ...\n",
       "1509947 1c1f          fatality        110         True     ...\n",
       "1510169 1c1f          fatality        110         False    ...\n",
       "1510380 1c1m          minor_injury    110         True     ...\n",
       "1510603 4c4m          minor_injury    100         True     ...\n",
       "1511280 0c            property_damage 50          True     ...\n",
       "1511335 0c            property_damage 50          True     ...\n",
       "1511391 1c1m          minor_injury    50          False    ...\n",
       "1511703 1c1m          minor_injury    100         True     ...\n",
       "1513358 0c            property_damage 100         True     ...\n",
       "1513380 1c1m          minor_injury    100         True     ...\n",
       "1513857 1c1m          minor_injury    100         True     ...\n",
       "1513868 0c            property_damage 80          False    ...\n",
       "1513879 1c1m          minor_injury    80          False    ...\n",
       "1514158 1c1m          minor_injury    60          True     ...\n",
       "1514535 1c1m          minor_injury    80          True     ...\n",
       "1515036 1c1f          fatality        100         True     ...\n",
       "1515857 1c1f          fatality        60          True     ...\n",
       "1516090 0c            property_damage 50          True     ...\n",
       "1517269 0c            property_damage 50          True     ...\n",
       "1517646 0c            property_damage 60          True     ...\n",
       "1517979 2c2m          minor_injury    60          True     ...\n",
       "1518268 3c2s1m        serious_injury  80          True     ...\n",
       "1518380 1c1m          minor_injury    110         True     ...\n",
       "1518679 0c            property_damage 110         True     ...\n",
       "1518857 1c1s          serious_injury  60          True     ...\n",
       "1519268 0c            property_damage 50          False    ...\n",
       "        road_position_vertical road_sealed road_wet weather\n",
       "240     level                  True        True     unknown\n",
       "251     level                  True        False    fine   \n",
       "328     level                  True        False    fine   \n",
       "473     slope                  True        True     fine   \n",
       "528     level                  True        False    fine   \n",
       "539     level                  True        False    fine   \n",
       "695     level                  True        False    fine   \n",
       "950     level                  True        False    fine   \n",
       "1406    slope                  True        False    fine   \n",
       "2039    slope                  True        False    fine   \n",
       "2251    slope                  True        False    fine   \n",
       "3183    level                  True        False    fine   \n",
       "3362    slope                  True        False    fine   \n",
       "3428    crest                  False       False    fine   \n",
       "3684    level                  True        False    fine   \n",
       "4017    level                  True        False    fine   \n",
       "4094    level                  True        False    fine   \n",
       "5039    level                  True        False    fine   \n",
       "5294    level                  True        False    fine   \n",
       "6116    slope                  True        False    fine   \n",
       "6594    level                  False       False    fine   \n",
       "6795    level                  True        False    fine   \n",
       "6828    level                  True        False    fine   \n",
       "6894    level                  True        False    fine   \n",
       "7105    slope                  True        False    fine   \n",
       "7117    level                  True        True     fine   \n",
       "7150    level                  True        False    fine   \n",
       "7549    level                  True        True     rain   \n",
       "7561    level                  True        True     rain   \n",
       "8549    level                  True        False    fine   \n",
       "...     ...                    ...         ...      ...    \n",
       "1508301 level                  True        False    fine   \n",
       "1508359 slope                  True        False    fine   \n",
       "1508436 level                  False       False    fine   \n",
       "1508658 slope                  True        False    fine   \n",
       "1509947 level                  True        False    fine   \n",
       "1510169 level                  True        False    fine   \n",
       "1510380 level                  True        False    fine   \n",
       "1510603 level                  True        False    fine   \n",
       "1511280 level                  True        False    fine   \n",
       "1511335 level                  True        False    fine   \n",
       "1511391 level                  True        False    fine   \n",
       "1511703 level                  True        False    fine   \n",
       "1513358 slope                  False       False    fine   \n",
       "1513380 level                  False       True     rain   \n",
       "1513857 level                  True        True     unknown\n",
       "1513868 level                  True        False    fine   \n",
       "1513879 slope                  True        False    fine   \n",
       "1514158 slope                  True        True     unknown\n",
       "1514535 level                  False       False    fine   \n",
       "1515036 level                  False       False    fine   \n",
       "1515857 level                  True        False    fine   \n",
       "1516090 level                  True        True     fine   \n",
       "1517269 level                  True        False    fine   \n",
       "1517646 level                  True        False    fine   \n",
       "1517979 level                  True        False    fine   \n",
       "1518268 slope                  True        False    fine   \n",
       "1518380 level                  True        False    fine   \n",
       "1518679 crest                  True        False    fine   \n",
       "1518857 level                  True        False    fine   \n",
       "1519268 level                  True        True     rain   \n",
       "        crash_type                 lighting         traffic_controls\n",
       "240     Hit Fixed Object           daylight         none            \n",
       "251     Hit Pedestrian             darkness_not_lit none            \n",
       "328     Hit Fixed Object           daylight         none            \n",
       "473     Hit Fixed Object           darkness_not_lit none            \n",
       "528     Hit Fixed Object           daylight         giveway_sign    \n",
       "539     Hit Fixed Object           daylight         none            \n",
       "695     Right Angle                darkness_not_lit stop_sign       \n",
       "950     Hit Fixed Object           darkness_not_lit traffic_lights  \n",
       "1406    Left Road - Out of Control daylight         none            \n",
       "2039    Right Angle                daylight         giveway_sign    \n",
       "2251    Roll Over                  daylight         giveway_sign    \n",
       "3183    Hit Fixed Object           daylight         giveway_sign    \n",
       "3362    Hit Fixed Object           darkness_not_lit none            \n",
       "3428    Roll Over                  daylight         none            \n",
       "3684    Hit Fixed Object           darkness_not_lit none            \n",
       "4017    Hit Fixed Object           darkness_not_lit none            \n",
       "4094    Hit Fixed Object           darkness_not_lit traffic_lights  \n",
       "5039    Hit Fixed Object           darkness_not_lit none            \n",
       "5294    Hit Fixed Object           darkness_not_lit none            \n",
       "6116    Hit Parked Vehicle         daylight         none            \n",
       "6594    Left Road - Out of Control daylight         none            \n",
       "6795    Hit Fixed Object           darkness_not_lit traffic_lights  \n",
       "6828    Hit Fixed Object           darkness_not_lit none            \n",
       "6894    Hit Pedestrian             darkness_not_lit traffic_lights  \n",
       "7105    Hit Fixed Object           darkness_not_lit none            \n",
       "7117    Hit Parked Vehicle         darkness_not_lit none            \n",
       "7150    Hit Fixed Object           daylight         none            \n",
       "7549    Hit Pedestrian             darkness_not_lit none            \n",
       "7561    Hit Fixed Object           darkness_not_lit none            \n",
       "8549    Side Swipe                 daylight         none            \n",
       "...     ...                        ...              ...             \n",
       "1508301 Hit Fixed Object           daylight         none            \n",
       "1508359 Roll Over                  darkness_not_lit none            \n",
       "1508436 Roll Over                  darkness_not_lit none            \n",
       "1508658 Hit Fixed Object           darkness_not_lit none            \n",
       "1509947 Roll Over                  darkness_not_lit none            \n",
       "1510169 Right Angle                darkness_not_lit giveway_sign    \n",
       "1510380 Side Swipe                 daylight         none            \n",
       "1510603 Hit Fixed Object           daylight         none            \n",
       "1511280 Hit Parked Vehicle         daylight         none            \n",
       "1511335 Hit Parked Vehicle         darkness_not_lit none            \n",
       "1511391 Right Angle                darkness_not_lit stop_sign       \n",
       "1511703 Hit Fixed Object           darkness_not_lit none            \n",
       "1513358 Hit Fixed Object           darkness_not_lit none            \n",
       "1513380 Hit Fixed Object           darkness_not_lit none            \n",
       "1513857 Hit Fixed Object           darkness_not_lit none            \n",
       "1513868 Hit Fixed Object           darkness_not_lit railway_crossing\n",
       "1513879 Hit Fixed Object           darkness_not_lit none            \n",
       "1514158 Hit Fixed Object           daylight         none            \n",
       "1514535 Roll Over                  darkness_not_lit none            \n",
       "1515036 Roll Over                  daylight         none            \n",
       "1515857 Hit Pedestrian             darkness_not_lit none            \n",
       "1516090 Hit Parked Vehicle         daylight         none            \n",
       "1517269 Hit Parked Vehicle         darkness_not_lit none            \n",
       "1517646 Hit Fixed Object           darkness_not_lit none            \n",
       "1517979 Rear End                   daylight         none            \n",
       "1518268 Hit Fixed Object           daylight         none            \n",
       "1518380 Hit Fixed Object           daylight         none            \n",
       "1518679 Hit Fixed Object           darkness_not_lit none            \n",
       "1518857 Hit Parked Vehicle         darkness_not_lit none            \n",
       "1519268 Hit Pedestrian             darkness_not_lit traffic_lights  \n",
       "        drugs_alcohol DCA_code comment\n",
       "240     Y             NA              \n",
       "251     Y             NA              \n",
       "328     Y             NA              \n",
       "473     Y             NA              \n",
       "528     Y             NA              \n",
       "539     Y             NA              \n",
       "695     Y             NA              \n",
       "950     Y             NA              \n",
       "1406    Y             NA              \n",
       "2039    Y             NA              \n",
       "2251    Y             NA              \n",
       "3183    Y             NA              \n",
       "3362    Y             NA              \n",
       "3428    Y             NA              \n",
       "3684    Y             NA              \n",
       "4017    Y             NA              \n",
       "4094    Y             NA              \n",
       "5039    Y             NA              \n",
       "5294    Y             NA              \n",
       "6116    Y             NA              \n",
       "6594    Y             NA              \n",
       "6795    Y             NA              \n",
       "6828    Y             NA              \n",
       "6894    Y             NA              \n",
       "7105    Y             NA              \n",
       "7117    Y             NA              \n",
       "7150    Y             NA              \n",
       "7549    Y             NA              \n",
       "7561    Y             NA              \n",
       "8549    Y             NA              \n",
       "...     ...           ...      ...    \n",
       "1508301 Y             NA              \n",
       "1508359 Y             NA              \n",
       "1508436 Y             NA              \n",
       "1508658 Y             NA              \n",
       "1509947 Y             NA              \n",
       "1510169 Y             NA              \n",
       "1510380 Y             NA              \n",
       "1510603 Y             NA              \n",
       "1511280 Y             NA              \n",
       "1511335 Y             NA              \n",
       "1511391 Y             NA              \n",
       "1511703 Y             NA              \n",
       "1513358 Y             NA              \n",
       "1513380 Y             NA              \n",
       "1513857 Y             NA              \n",
       "1513868 Y             NA              \n",
       "1513879 Y             NA              \n",
       "1514158 Y             NA              \n",
       "1514535 Y             NA              \n",
       "1515036 Y             NA              \n",
       "1515857 Y             NA              \n",
       "1516090 Y             NA              \n",
       "1517269 Y             NA              \n",
       "1517646 Y             NA              \n",
       "1517979 Y             NA              \n",
       "1518268 Y             NA              \n",
       "1518380 Y             NA              \n",
       "1518679 Y             NA              \n",
       "1518857 Y             NA              \n",
       "1519268 Y             NA              "
      ]
     },
     "metadata": {},
     "output_type": "display_data"
    },
    {
     "ename": "ERROR",
     "evalue": "Error in merge.data.frame(x, location, by = \"lat_long\", all.x = True): 找不到对象'True'\n",
     "output_type": "error",
     "traceback": [
      "Error in merge.data.frame(x, location, by = \"lat_long\", all.x = True): 找不到对象'True'\nTraceback:\n",
      "1. merge(x, location, by = \"lat_long\", all.x = True)",
      "2. merge.data.frame(x, location, by = \"lat_long\", all.x = True)"
     ]
    }
   ],
   "source": [
    "x[x$drugs_alcohol=='Y',]"
   ]
  },
  {
   "cell_type": "code",
   "execution_count": null,
   "id": "f2afc2fe",
   "metadata": {},
   "outputs": [],
   "source": [
    "head(y)\n",
    "y[y$state=='QLD']"
   ]
  },
  {
   "cell_type": "code",
   "execution_count": null,
   "id": "4ba630f1",
   "metadata": {},
   "outputs": [],
   "source": []
  },
  {
   "cell_type": "code",
   "execution_count": null,
   "id": "c53825bc",
   "metadata": {},
   "outputs": [],
   "source": []
  }
 ],
 "metadata": {
  "kernelspec": {
   "display_name": "R",
   "language": "R",
   "name": "ir"
  },
  "language_info": {
   "codemirror_mode": "r",
   "file_extension": ".r",
   "mimetype": "text/x-r-source",
   "name": "R",
   "pygments_lexer": "r",
   "version": "4.1.1"
  },
  "toc": {
   "base_numbering": 1,
   "nav_menu": {},
   "number_sections": true,
   "sideBar": true,
   "skip_h1_title": false,
   "title_cell": "Table of Contents",
   "title_sidebar": "Contents",
   "toc_cell": false,
   "toc_position": {},
   "toc_section_display": true,
   "toc_window_display": false
  }
 },
 "nbformat": 4,
 "nbformat_minor": 5
}
